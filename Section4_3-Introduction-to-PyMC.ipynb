{
 "metadata": {
  "name": "",
  "signature": "sha256:a54cbd4cad8b88ddcf2ab7f09a80786bbf58c864086b81cd829e3f79764c635a"
 },
 "nbformat": 3,
 "nbformat_minor": 0,
 "worksheets": [
  {
   "cells": [
    {
     "cell_type": "markdown",
     "metadata": {},
     "source": [
      "# Introduction to PyMC\n",
      "______\n",
      "\n",
      "PyMC is a python module that implements Bayesian statistical models and\n",
      "fitting algorithms, including Markov chain Monte Carlo. Its flexibility\n",
      "and extensibility make it applicable to a large suite of problems. Along\n",
      "with core sampling functionality, PyMC includes methods for summarizing\n",
      "output, plotting, goodness-of-fit and convergence diagnostics.\n",
      "\n",
      "PyMC provides functionalities to make Bayesian analysis as painless as\n",
      "possible. Here is a short list of some of its features:\n",
      "\n",
      "-   Fits Bayesian statistical models with Markov chain Monte Carlo and\n",
      "    other algorithms.\n",
      "-   Includes a large suite of well-documented statistical distributions.\n",
      "-   Uses NumPy for numerics wherever possible.\n",
      "-   Includes a module for modeling Gaussian processes.\n",
      "-   Sampling loops can be paused and tuned manually, or saved and\n",
      "    restarted later.\n",
      "-   Creates summaries including tables and plots.\n",
      "-   Traces can be saved to the disk as plain text, Python pickles,\n",
      "    SQLite or MySQL database, or hdf5 archives.\n",
      "-   Several convergence diagnostics are available.\n",
      "-   Extensible: easily incorporates custom step methods and unusual\n",
      "    probability distributions.\n",
      "-   MCMC loops can be embedded in larger programs, and results can be\n",
      "    analyzed with the full power of Python."
     ]
    },
    {
     "cell_type": "code",
     "collapsed": false,
     "input": [
      "%matplotlib inline\n",
      "from pymc import Normal, Lambda, observed, MCMC, Matplot\n",
      "from pymc.examples import melanoma_data as data\n",
      "import numpy as np\n",
      "\n",
      "# Convert censoring indicators to indicators for failure event\n",
      "failure = (data.censored==0).astype(int)\n",
      "\n",
      "# Intercept for survival rate\n",
      "beta0 = Normal('beta0', mu=0.0, tau=0.0001, value=0.0)\n",
      "# Treatment effect\n",
      "beta1 = Normal('beta1', mu=0.0, tau=0.0001, value=0.0)\n",
      "\n",
      "# Survival rates\n",
      "lam = Lambda('lam', lambda b0=beta0, b1=beta1, tr=data.treat: np.exp(b0 + b1*tr))\n",
      "\n",
      "@observed\n",
      "def survival(value=data.t, lam=lam, f=failure):\n",
      "    \"\"\"Exponential survival likelihood, accounting for censoring\"\"\"\n",
      "    return sum(f*np.log(lam) - lam*value)"
     ],
     "language": "python",
     "metadata": {},
     "outputs": [],
     "prompt_number": 2
    },
    {
     "cell_type": "markdown",
     "metadata": {},
     "source": [
      "This example will generate 10000 posterior samples, thinned by a factor\n",
      "of 2, with the first half discarded as burn-in. The sample is stored in\n",
      "a Python serialization (pickle) database."
     ]
    },
    {
     "cell_type": "code",
     "collapsed": false,
     "input": [
      "M = MCMC([beta0, beta1, lam, survival])\n",
      "M.sample(iter=10000, burn=5000)"
     ],
     "language": "python",
     "metadata": {},
     "outputs": [
      {
       "output_type": "stream",
       "stream": "stdout",
       "text": [
        "\r",
        " [-------          19%                  ] 1922 of 10000 complete in 0.5 sec"
       ]
      },
      {
       "output_type": "stream",
       "stream": "stdout",
       "text": [
        "\r",
        " [--------------   37%                  ] 3737 of 10000 complete in 1.0 sec"
       ]
      },
      {
       "output_type": "stream",
       "stream": "stdout",
       "text": [
        "\r",
        " [-----------------50%                  ] 5022 of 10000 complete in 1.5 sec"
       ]
      },
      {
       "output_type": "stream",
       "stream": "stdout",
       "text": [
        "\r",
        " [-----------------64%----              ] 6437 of 10000 complete in 2.0 sec"
       ]
      },
      {
       "output_type": "stream",
       "stream": "stdout",
       "text": [
        "\r",
        " [-----------------77%---------         ] 7758 of 10000 complete in 2.5 sec"
       ]
      },
      {
       "output_type": "stream",
       "stream": "stdout",
       "text": [
        "\r",
        " [-----------------91%--------------    ] 9126 of 10000 complete in 3.0 sec"
       ]
      },
      {
       "output_type": "stream",
       "stream": "stdout",
       "text": [
        "\r",
        " [-----------------100%-----------------] 10000 of 10000 complete in 3.3 sec"
       ]
      }
     ],
     "prompt_number": 5
    },
    {
     "cell_type": "code",
     "collapsed": false,
     "input": [
      "Matplot.plot(beta1)"
     ],
     "language": "python",
     "metadata": {},
     "outputs": [
      {
       "output_type": "stream",
       "stream": "stdout",
       "text": [
        "Plotting beta1\n"
       ]
      },
      {
       "output_type": "stream",
       "stream": "stderr",
       "text": [
        "/usr/local/Cellar/python/2.7.6_1/Frameworks/Python.framework/Versions/2.7/lib/python2.7/site-packages/numpy-1.10.0.dev_2e3778a-py2.7-macosx-10.9-x86_64.egg/numpy/core/fromnumeric.py:2539: VisibleDeprecationWarning: `rank` is deprecated; use the `ndim` attribute or function instead. To find the rank of a matrix see `numpy.linalg.matrix_rank`.\n",
        "  VisibleDeprecationWarning)\n"
       ]
      },
      {
       "metadata": {},
       "output_type": "display_data",
       "png": "[encoded data removed]",
       "text": [
        "<matplotlib.figure.Figure at 0x1139606d0>"
       ]
      }
     ],
     "prompt_number": 6
    },
    {
     "cell_type": "markdown",
     "metadata": {},
     "source": [
      "## Example: Coal mining disasters\n",
      "\n",
      "Recall the earlier example of estimating a changepoint in the time series of UK coal mining disasters."
     ]
    },
    {
     "cell_type": "code",
     "collapsed": false,
     "input": [
      "from pymc.examples.disaster_model import disasters_array\n",
      "import matplotlib.pyplot as plt\n",
      "\n",
      "n_count_data = len(disasters_array)\n",
      "\n",
      "plt.figure(figsize=(12.5, 3.5))\n",
      "plt.bar(np.arange(1851, 1962), disasters_array, color=\"#348ABD\")\n",
      "plt.xlabel(\"Year\")\n",
      "plt.ylabel(\"Disasters\")\n",
      "plt.title(\"UK coal mining disasters, 1851-1962\")\n",
      "plt.xlim(1851, 1962);"
     ],
     "language": "python",
     "metadata": {},
     "outputs": [
      {
       "metadata": {},
       "output_type": "display_data",
       "png": "[encoded data removed]",
       "text": [
        "<matplotlib.figure.Figure at 0x11396ee50>"
       ]
      }
     ],
     "prompt_number": 8
    },
    {
     "cell_type": "markdown",
     "metadata": {},
     "source": [
      "We represent our conceptual model formally as a statistical model:\n",
      "\n",
      "$$\\begin{array}{ccc}  \n",
      "(y_t | \\tau, \\lambda_1, \\lambda_2) \\sim\\text{Poisson}\\left(r_t\\right), & r_t=\\left\\{\n",
      "\\begin{array}{lll}             \n",
      "\\lambda_1 &\\text{if}& t< \\tau\\\\ \n",
      "\\lambda_2 &\\text{if}& t\\ge \\tau             \n",
      "\\end{array}\\right.,&t\\in[t_l,t_h]\\\\         \n",
      "\\tau \\sim \\text{DiscreteUniform}(t_l, t_h)\\\\         \n",
      "\\lambda_1\\sim \\text{Exponential}(a)\\\\         \n",
      "\\lambda_2\\sim \\text{Exponential}(b)     \n",
      "\\end{array}$$\n",
      "\n",
      "Because we have defined $y$ by its dependence on $\\tau$, $\\lambda_1$ and $\\lambda_2$, the\n",
      "latter three are known as the *parents* of $y$ and $D$ is called their\n",
      "*child*. Similarly, the parents of $\\tau$ are $t_l$ and $t_h$, and $\\tau$ is\n",
      "the child of $t_l$ and $t_h$.\n",
      "\n",
      "## PyMC Variables\n",
      "\n",
      "At the model-specification stage (before the data are observed), $y$,\n",
      "$\\tau$, $\\lambda_1$, and $\\lambda_2$ are all random variables. Bayesian \"random\"\n",
      "variables have not necessarily arisen from a physical random process.\n",
      "The Bayesian interpretation of probability is *epistemic*, meaning\n",
      "random variable $x$'s probability distribution $p(x)$ represents our\n",
      "knowledge and uncertainty about $x$'s value. Candidate\n",
      "values of $x$ for which $p(x)$ is high are relatively more probable,\n",
      "given what we know. Random variables are represented in PyMC by the\n",
      "classes `Stochastic` and `Deterministic`.\n",
      "\n",
      "The only `Deterministic` in the model is $r$. If we knew the values of\n",
      "$r$'s parents, we could compute the value of $r$\n",
      "exactly. A `Deterministic` like $r$ is defined by a mathematical\n",
      "function that returns its value given values for its parents.\n",
      "`Deterministic` variables are sometimes called the *systemic* part of\n",
      "the model. The nomenclature is a bit confusing, because these objects\n",
      "usually represent random variables; since the parents of $r$ are random,\n",
      "$r$ is random also.\n",
      "\n",
      "On the other hand, even if the values of the parents of variables\n",
      "`switchpoint`, \\`disasters\\` (before observing the data), `early_mean`\n",
      "or `late_mean` were known, we would still be uncertain of their values.\n",
      "These variables are characterized by probability distributions that\n",
      "express how plausible their candidate values are, given values for their\n",
      "parents. The `Stochastic` class represents these variables.\n",
      "\n",
      "First, we represent the unknown switchpoint as a discrete uniform random variable:"
     ]
    },
    {
     "cell_type": "code",
     "collapsed": false,
     "input": [
      "from pymc import DiscreteUniform, Exponential, Poisson, deterministic\n",
      "\n",
      "switchpoint = DiscreteUniform('switchpoint', lower=0, upper=110)"
     ],
     "language": "python",
     "metadata": {},
     "outputs": [],
     "prompt_number": 9
    },
    {
     "cell_type": "markdown",
     "metadata": {},
     "source": [
      "`DiscreteUniform` is a subclass of `Stochastic` that represents\n",
      "uniformly-distributed discrete variables. Use of this distribution\n",
      "suggests that we have no preference *a priori* regarding the location of\n",
      "the switchpoint; all values are equally likely. \n",
      "\n",
      "Now we create the\n",
      "exponentially-distributed variables `early_mean` and `late_mean` for the\n",
      "early and late Poisson rates, respectively:"
     ]
    },
    {
     "cell_type": "code",
     "collapsed": false,
     "input": [
      "early_mean = Exponential('early_mean', beta=1., value=1)\n",
      "late_mean = Exponential('late_mean', beta=1., value=1)"
     ],
     "language": "python",
     "metadata": {},
     "outputs": [],
     "prompt_number": 10
    },
    {
     "cell_type": "markdown",
     "metadata": {},
     "source": [
      "Next, we define the variable `rate`, which selects the early rate\n",
      "`early_mean` for times before `switchpoint` and the late rate\n",
      "`late_mean` for times after `switchpoint`. We create `rate` using the\n",
      "`deterministic` decorator, which converts the ordinary Python function\n",
      "`rate` into a `Deterministic` object."
     ]
    },
    {
     "cell_type": "code",
     "collapsed": false,
     "input": [
      "@deterministic(plot=False)\n",
      "def rate(s=switchpoint, e=early_mean, l=late_mean):\n",
      "    ''' Concatenate Poisson means '''\n",
      "    out = np.empty(len(disasters_array))\n",
      "    out[:s] = e\n",
      "    out[s:] = l\n",
      "    return out"
     ],
     "language": "python",
     "metadata": {},
     "outputs": [],
     "prompt_number": 12
    },
    {
     "cell_type": "markdown",
     "metadata": {},
     "source": [
      "The last step is to define the number of disasters `disasters`. This is\n",
      "a stochastic variable but unlike `switchpoint`, `early_mean` and\n",
      "`late_mean` we have observed its value. To express this, we set the\n",
      "argument `observed` to `True` (it is set to `False` by default). This\n",
      "tells PyMC that this object's value should not be changed:"
     ]
    },
    {
     "cell_type": "code",
     "collapsed": false,
     "input": [
      "disasters = Poisson('disasters', mu=rate, value=disasters_array, \n",
      "                    observed=True)"
     ],
     "language": "python",
     "metadata": {},
     "outputs": [],
     "prompt_number": 13
    },
    {
     "cell_type": "markdown",
     "metadata": {},
     "source": [
      "### Why are data and unknown variables represented by the same object?\n",
      "\n",
      "Since its represented by a `Stochastic` object, `disasters` is defined\n",
      "by its dependence on its parent `rate` even though its value is fixed.\n",
      "This isn't just a quirk of PyMC's syntax; Bayesian hierarchical notation\n",
      "itself makes no distinction between random variables and data. The\n",
      "reason is simple: to use Bayes' theorem to compute the posterior, we require the\n",
      "likelihood. Even though `disasters`'s value is known\n",
      "and fixed, we need to formally assign it a probability distribution as\n",
      "if it were a random variable. Remember, the likelihood and the\n",
      "probability function are essentially the same, except that the former is\n",
      "regarded as a function of the parameters and the latter as a function of\n",
      "the data.\n",
      "\n",
      "This point can be counterintuitive at first, as many peoples' instinct\n",
      "is to regard data as fixed a priori and unknown variables as dependent\n",
      "on the data. One way to understand this is to think of statistical\n",
      "modelsas predictive models for data, or as\n",
      "models of the processes that gave rise to data. Before observing the\n",
      "value of `disasters`, we could have sampled from its prior predictive\n",
      "distribution $p(y)$ (*i.e.* the marginal distribution of the data) as\n",
      "follows:\n",
      "\n",
      "> -   Sample `early_mean`, `switchpoint` and `late_mean` from their\n",
      ">     priors.\n",
      "> -   Sample `disasters` conditional on these values.\n",
      "\n",
      "Even after we observe the value of `disasters`, we need to use this\n",
      "process model to make inferences about `early_mean` , `switchpoint` and\n",
      "`late_mean` because its the only information we have about how the\n",
      "variables are related."
     ]
    },
    {
     "cell_type": "markdown",
     "metadata": {},
     "source": [
      "## Parents and children\n",
      "\n",
      "We have above created a PyMC probability model, which is simply a linked\n",
      "collection of variables. To see the nature of the links, iexamine `switchpoint`'s `parents` attribute:"
     ]
    },
    {
     "cell_type": "code",
     "collapsed": false,
     "input": [
      "switchpoint.parents"
     ],
     "language": "python",
     "metadata": {},
     "outputs": [
      {
       "metadata": {},
       "output_type": "pyout",
       "prompt_number": 14,
       "text": [
        "{'lower': 0, 'upper': 110}"
       ]
      }
     ],
     "prompt_number": 14
    },
    {
     "cell_type": "markdown",
     "metadata": {},
     "source": [
      "The `parents` dictionary shows us the distributional parameters of\n",
      "`switchpoint`, which are constants. Now let's examine \\`disasters\\`'s\n",
      "parents:"
     ]
    },
    {
     "cell_type": "code",
     "collapsed": false,
     "input": [
      "disasters.parents"
     ],
     "language": "python",
     "metadata": {},
     "outputs": [
      {
       "metadata": {},
       "output_type": "pyout",
       "prompt_number": 15,
       "text": [
        "{'mu': <pymc.PyMCObjects.Deterministic 'rate' at 0x114403890>}"
       ]
      }
     ],
     "prompt_number": 15
    },
    {
     "cell_type": "code",
     "collapsed": false,
     "input": [
      "rate.parents"
     ],
     "language": "python",
     "metadata": {},
     "outputs": [
      {
       "metadata": {},
       "output_type": "pyout",
       "prompt_number": 16,
       "text": [
        "{'e': <pymc.distributions.Exponential 'early_mean' at 0x1143dc910>,\n",
        " 'l': <pymc.distributions.Exponential 'late_mean' at 0x1143dc7d0>,\n",
        " 's': <pymc.distributions.DiscreteUniform 'switchpoint' at 0x1143dcc90>}"
       ]
      }
     ],
     "prompt_number": 16
    },
    {
     "cell_type": "markdown",
     "metadata": {},
     "source": [
      "We are using `rate` as a distributional parameter of `disasters`\n",
      "(*i.e.* `rate` is `disasters`'s parent). `disasters` internally\n",
      "labels `rate` as `mu`, meaning `rate` plays the role of the rate\n",
      "parameter in `disasters`'s Poisson distribution. Now examine `rate`'s\n",
      "`children` attribute:"
     ]
    },
    {
     "cell_type": "code",
     "collapsed": false,
     "input": [
      "rate.children"
     ],
     "language": "python",
     "metadata": {},
     "outputs": [
      {
       "metadata": {},
       "output_type": "pyout",
       "prompt_number": 17,
       "text": [
        "{<pymc.distributions.Poisson 'disasters' at 0x114400a50>}"
       ]
      }
     ],
     "prompt_number": 17
    },
    {
     "cell_type": "markdown",
     "metadata": {},
     "source": [
      "Because `disasters` considers `rate` its parent, `rate` considers\n",
      "`disasters` its child. Unlike `parents`, `children` is a set (an\n",
      "unordered collection of objects); variables do not associate their\n",
      "children with any particular distributional role. Try examining the\n",
      "`parents` and `children` attributes of the other parameters in the\n",
      "model.\n",
      "\n",
      "The following `directed acyclic graph` is a visualization of the\n",
      "parent-child relationships in the model. Unobserved stochastic variables\n",
      "`switchpoint`, `early_mean` and `late_mean` are open ellipses, observed\n",
      "stochastic variable `disasters` is a filled ellipse and deterministic\n",
      "variable `rate` is a triangle. Arrows point from parent to child and\n",
      "display the label that the child assigns to the parent. See section\n",
      ":ref:`graphical` for more details."
     ]
    },
    {
     "cell_type": "code",
     "collapsed": false,
     "input": [
      "from pymc import graph, MCMC\n",
      "graph.dag(MCMC([switchpoint, rate, early_mean, late_mean, disasters]))"
     ],
     "language": "python",
     "metadata": {},
     "outputs": [
      {
       "metadata": {},
       "output_type": "pyout",
       "prompt_number": 18,
       "text": [
        "<pydot.Dot at 0x11398c5d0>"
       ]
      }
     ],
     "prompt_number": 18
    },
    {
     "cell_type": "code",
     "collapsed": false,
     "input": [
      "!dot MCMC.dot -Tpng -o images/dag.png\n",
      "from IPython.core.display import Image\n",
      "Image('images/dag.png')"
     ],
     "language": "python",
     "metadata": {},
     "outputs": [
      {
       "metadata": {},
       "output_type": "pyout",
       "png": "[encoded data removed]",
       "prompt_number": 19,
       "text": [
        "<IPython.core.display.Image at 0x1139716d0>"
       ]
      }
     ],
     "prompt_number": 19
    },
    {
     "cell_type": "markdown",
     "metadata": {},
     "source": [
      "As the examples above have shown, PyMC objects need to have a name\n",
      "assigned, such as `switchpoint`, `early_mean` or `late_mean`. These\n",
      "names are used for storage and post-processing:\n",
      "\n",
      "-   as keys in on-disk databases,\n",
      "-   as node labels in model graphs,\n",
      "-   as axis labels in plots of traces,\n",
      "-   as table labels in summary statistics.\n",
      "\n",
      "A model instantiated with variables having identical names raises an\n",
      "error to avoid name conflicts in the database storing the traces. In\n",
      "general however, PyMC uses references to the objects themselves, not\n",
      "their names, to identify variables."
     ]
    },
    {
     "cell_type": "markdown",
     "metadata": {},
     "source": [
      "## Variables' values and log-probabilities\n",
      "\n",
      "All PyMC variables have an attribute called `value` that stores the\n",
      "current value of that variable. Try examining `disasters`'s value, and\n",
      "you'll see the initial value we provided for it:"
     ]
    },
    {
     "cell_type": "code",
     "collapsed": false,
     "input": [
      "disasters.value"
     ],
     "language": "python",
     "metadata": {},
     "outputs": [
      {
       "metadata": {},
       "output_type": "pyout",
       "prompt_number": 20,
       "text": [
        "array([4, 5, 4, 0, 1, 4, 3, 4, 0, 6, 3, 3, 4, 0, 2, 6, 3, 3, 5, 4, 5, 3, 1,\n",
        "       4, 4, 1, 5, 5, 3, 4, 2, 5, 2, 2, 3, 4, 2, 1, 3, 2, 2, 1, 1, 1, 1, 3,\n",
        "       0, 0, 1, 0, 1, 1, 0, 0, 3, 1, 0, 3, 2, 2, 0, 1, 1, 1, 0, 1, 0, 1, 0,\n",
        "       0, 0, 2, 1, 0, 0, 0, 1, 1, 0, 2, 3, 3, 1, 1, 2, 1, 1, 1, 1, 2, 4, 2,\n",
        "       0, 0, 1, 4, 0, 0, 0, 1, 0, 0, 0, 0, 0, 1, 0, 0, 1, 0, 1])"
       ]
      }
     ],
     "prompt_number": 20
    },
    {
     "cell_type": "markdown",
     "metadata": {},
     "source": [
      "If you check the values of `early_mean`, `switchpoint` and `late_mean`,\n",
      "you'll see random initial values generated by PyMC:"
     ]
    },
    {
     "cell_type": "code",
     "collapsed": false,
     "input": [
      "switchpoint.value"
     ],
     "language": "python",
     "metadata": {},
     "outputs": [
      {
       "metadata": {},
       "output_type": "pyout",
       "prompt_number": 21,
       "text": [
        "array(79)"
       ]
      }
     ],
     "prompt_number": 21
    },
    {
     "cell_type": "code",
     "collapsed": false,
     "input": [
      "early_mean.value"
     ],
     "language": "python",
     "metadata": {},
     "outputs": [
      {
       "metadata": {},
       "output_type": "pyout",
       "prompt_number": 22,
       "text": [
        "array(1.0)"
       ]
      }
     ],
     "prompt_number": 22
    },
    {
     "cell_type": "code",
     "collapsed": false,
     "input": [
      "late_mean.value"
     ],
     "language": "python",
     "metadata": {},
     "outputs": [
      {
       "metadata": {},
       "output_type": "pyout",
       "prompt_number": 23,
       "text": [
        "array(1.0)"
       ]
      }
     ],
     "prompt_number": 23
    },
    {
     "cell_type": "markdown",
     "metadata": {},
     "source": [
      "Of course, since these are `Stochastic` elements, your values will be\n",
      "different than these. If you check `rate`'s value, you'll see an array\n",
      "whose first `switchpoint` elements are `early_mean`,\n",
      "and whose remaining elements are `late_mean`:"
     ]
    },
    {
     "cell_type": "code",
     "collapsed": false,
     "input": [
      "rate.value"
     ],
     "language": "python",
     "metadata": {},
     "outputs": [
      {
       "metadata": {},
       "output_type": "pyout",
       "prompt_number": 24,
       "text": [
        "array([ 1.,  1.,  1.,  1.,  1.,  1.,  1.,  1.,  1.,  1.,  1.,  1.,  1.,\n",
        "        1.,  1.,  1.,  1.,  1.,  1.,  1.,  1.,  1.,  1.,  1.,  1.,  1.,\n",
        "        1.,  1.,  1.,  1.,  1.,  1.,  1.,  1.,  1.,  1.,  1.,  1.,  1.,\n",
        "        1.,  1.,  1.,  1.,  1.,  1.,  1.,  1.,  1.,  1.,  1.,  1.,  1.,\n",
        "        1.,  1.,  1.,  1.,  1.,  1.,  1.,  1.,  1.,  1.,  1.,  1.,  1.,\n",
        "        1.,  1.,  1.,  1.,  1.,  1.,  1.,  1.,  1.,  1.,  1.,  1.,  1.,\n",
        "        1.,  1.,  1.,  1.,  1.,  1.,  1.,  1.,  1.,  1.,  1.,  1.,  1.,\n",
        "        1.,  1.,  1.,  1.,  1.,  1.,  1.,  1.,  1.,  1.,  1.,  1.,  1.,\n",
        "        1.,  1.,  1.,  1.,  1.,  1.,  1.])"
       ]
      }
     ],
     "prompt_number": 24
    },
    {
     "cell_type": "markdown",
     "metadata": {},
     "source": [
      "To compute its value, `rate` calls the function we used to create it,\n",
      "passing in the values of its parents.\n",
      "\n",
      "`Stochastic` objects can evaluate their probability mass or density\n",
      "functions at their current values given the values of their parents. The\n",
      "logarithm of a stochastic object's probability mass or density can be\n",
      "accessed via the `logp` attribute. For vector-valued variables like\n",
      "`disasters`, the `logp` attribute returns the sum of the logarithms of\n",
      "the joint probability or density of all elements of the value. Try\n",
      "examining `switchpoint`'s and `disasters`'s log-probabilities and\n",
      "`early_mean` 's and `late_mean`'s log-densities:"
     ]
    },
    {
     "cell_type": "code",
     "collapsed": false,
     "input": [
      "switchpoint.logp"
     ],
     "language": "python",
     "metadata": {},
     "outputs": [
      {
       "metadata": {},
       "output_type": "pyout",
       "prompt_number": 25,
       "text": [
        "-4.709530201312334"
       ]
      }
     ],
     "prompt_number": 25
    },
    {
     "cell_type": "code",
     "collapsed": false,
     "input": [
      "disasters.logp"
     ],
     "language": "python",
     "metadata": {},
     "outputs": [
      {
       "metadata": {},
       "output_type": "pyout",
       "prompt_number": 26,
       "text": [
        "-225.80879194191988"
       ]
      }
     ],
     "prompt_number": 26
    },
    {
     "cell_type": "code",
     "collapsed": false,
     "input": [
      "early_mean.logp"
     ],
     "language": "python",
     "metadata": {},
     "outputs": [
      {
       "metadata": {},
       "output_type": "pyout",
       "prompt_number": 27,
       "text": [
        "-1.0"
       ]
      }
     ],
     "prompt_number": 27
    },
    {
     "cell_type": "code",
     "collapsed": false,
     "input": [
      "late_mean.logp"
     ],
     "language": "python",
     "metadata": {},
     "outputs": [
      {
       "metadata": {},
       "output_type": "pyout",
       "prompt_number": 28,
       "text": [
        "-1.0"
       ]
      }
     ],
     "prompt_number": 28
    },
    {
     "cell_type": "markdown",
     "metadata": {},
     "source": [
      "`Stochastic` objects need to call an internal function to compute their\n",
      "`logp` attributes, as `rate` needed to call an internal function to\n",
      "compute its value. Just as we created `rate` by decorating a function\n",
      "that computes its value, it's possible to create custom `Stochastic`\n",
      "objects by decorating functions that compute their log-probabilities or\n",
      "densities. Users are thus not\n",
      "limited to the set of of statistical distributions provided by PyMC."
     ]
    },
    {
     "cell_type": "markdown",
     "metadata": {},
     "source": [
      "### Using Variables as parents of other Variables\n",
      "\n",
      "Let's take a closer look at our definition of `rate`:\n",
      "\n",
      "    @deterministic(plot=False)\n",
      "    def rate(s=switchpoint, e=early_mean, l=late_mean):\n",
      "        ''' Concatenate Poisson means '''\n",
      "        out = empty(len(disasters_array))\n",
      "        out[:s] = e\n",
      "        out[s:] = l\n",
      "        return out\n",
      "\n",
      "The arguments `switchpoint`, `early_mean` and `late_mean` are\n",
      "`Stochastic` objects, not numbers. If that is so, why aren't errors\n",
      "raised when we attempt to slice array `out` up to a `Stochastic` object?\n",
      "\n",
      "Whenever a variable is used as a parent for a child variable, PyMC\n",
      "replaces it with its `value` attribute when the child's value or\n",
      "log-probability is computed. When `rate`'s value is recomputed,\n",
      "`s.value` is passed to the function as argument `switchpoint`. To see\n",
      "the values of the parents of `rate` all together, look at\n",
      "`rate.parents.value`."
     ]
    },
    {
     "cell_type": "markdown",
     "metadata": {},
     "source": [
      "## Fitting the model with MCMC\n",
      "\n",
      "PyMC provides several objects that fit probability models (linked collections of variables) like ours. The primary such object, `MCMC`, fits models with a Markov chain Monte Carlo algorithm:"
     ]
    },
    {
     "cell_type": "code",
     "collapsed": false,
     "input": [
      "from pymc.examples import disaster_model\n",
      "M = MCMC(disaster_model)"
     ],
     "language": "python",
     "metadata": {},
     "outputs": [],
     "prompt_number": 29
    },
    {
     "cell_type": "code",
     "collapsed": false,
     "input": [
      "M.late_mean"
     ],
     "language": "python",
     "metadata": {},
     "outputs": [
      {
       "metadata": {},
       "output_type": "pyout",
       "prompt_number": 30,
       "text": [
        "<pymc.distributions.Exponential 'late_mean' at 0x1143e1c90>"
       ]
      }
     ],
     "prompt_number": 30
    },
    {
     "cell_type": "markdown",
     "metadata": {},
     "source": [
      "In this case `M` will expose variables `switchpoint`, `early_mean`, `late_mean` and `disasters` as attributes; that is, `M.switchpoint` will be the same object as `disaster_model.switchpoint`.\n",
      "\n",
      "To run the sampler, call the MCMC object's `sample()` method with arguments for the number of iterations, burn-in length, and thinning interval (if desired):"
     ]
    },
    {
     "cell_type": "code",
     "collapsed": false,
     "input": [
      "M.sample(iter=10000, burn=1000)"
     ],
     "language": "python",
     "metadata": {},
     "outputs": [
      {
       "output_type": "stream",
       "stream": "stdout",
       "text": [
        "\r",
        " [--------         21%                  ] 2172 of 10000 complete in 0.5 sec"
       ]
      },
      {
       "output_type": "stream",
       "stream": "stdout",
       "text": [
        "\r",
        " [--------------   39%                  ] 3916 of 10000 complete in 1.0 sec"
       ]
      },
      {
       "output_type": "stream",
       "stream": "stdout",
       "text": [
        "\r",
        " [-----------------54%                  ] 5448 of 10000 complete in 1.5 sec"
       ]
      },
      {
       "output_type": "stream",
       "stream": "stdout",
       "text": [
        "\r",
        " [-----------------70%------            ] 7098 of 10000 complete in 2.0 sec"
       ]
      },
      {
       "output_type": "stream",
       "stream": "stdout",
       "text": [
        "\r",
        " [-----------------87%-------------     ] 8704 of 10000 complete in 2.5 sec"
       ]
      },
      {
       "output_type": "stream",
       "stream": "stdout",
       "text": [
        "\r",
        " [-----------------100%-----------------] 10000 of 10000 complete in 3.0 sec"
       ]
      }
     ],
     "prompt_number": 31
    },
    {
     "cell_type": "markdown",
     "metadata": {},
     "source": [
      "### Accessing the samples\n",
      "\n",
      "The output of the MCMC algorithm is a `trace`, the sequence of\n",
      "retained samples for each variable in the model. These traces can be\n",
      "accessed using the `trace(name, chain=-1)` method. For example:\n"
     ]
    },
    {
     "cell_type": "code",
     "collapsed": false,
     "input": [
      "M.trace('switchpoint')[1000:]"
     ],
     "language": "python",
     "metadata": {},
     "outputs": [
      {
       "metadata": {},
       "output_type": "pyout",
       "prompt_number": 32,
       "text": [
        "array([39, 39, 39, ..., 36, 36, 40])"
       ]
      }
     ],
     "prompt_number": 32
    },
    {
     "cell_type": "markdown",
     "metadata": {},
     "source": [
      "The trace slice `[start:stop:step]` works just like the NumPy array\n",
      "slice. By default, the returned trace array contains the samples from\n",
      "the last call to `sample`, that is, `chain=-1`, but the trace from\n",
      "previous sampling runs can be retrieved by specifying the correspondent\n",
      "chain index. To return the trace from all chains, simply use\n",
      "`chain=None`.\n",
      "\n",
      "### Sampling output\n",
      "\n",
      "You can examine the marginal posterior of any variable by plotting a\n",
      "histogram of its trace:"
     ]
    },
    {
     "cell_type": "code",
     "collapsed": false,
     "input": [
      "plt.hist(M.trace('late_mean')[:])"
     ],
     "language": "python",
     "metadata": {},
     "outputs": [
      {
       "metadata": {},
       "output_type": "pyout",
       "prompt_number": 33,
       "text": [
        "(array([   81.,   549.,  1251.,  2163.,  2441.,  1397.,   873.,   182.,\n",
        "           53.,    10.]),\n",
        " array([ 0.61506501,  0.69252524,  0.76998547,  0.8474457 ,  0.92490593,\n",
        "         1.00236616,  1.07982639,  1.15728662,  1.23474685,  1.31220707,\n",
        "         1.3896673 ]),\n",
        " <a list of 10 Patch objects>)"
       ]
      },
      {
       "metadata": {},
       "output_type": "display_data",
       "png": "[encoded data removed]",
       "text": [
        "<matplotlib.figure.Figure at 0x11457fdd0>"
       ]
      }
     ],
     "prompt_number": 33
    },
    {
     "cell_type": "markdown",
     "metadata": {},
     "source": [
      "\n",
      "PyMC has its own plotting functionality, via the optional `matplotlib`\n",
      "module as noted in the installation notes. The `Matplot` module includes\n",
      "a `plot` function that takes the model (or a single parameter) as an\n",
      "argument:"
     ]
    },
    {
     "cell_type": "code",
     "collapsed": false,
     "input": [
      "Matplot.plot(M)"
     ],
     "language": "python",
     "metadata": {},
     "outputs": [
      {
       "output_type": "stream",
       "stream": "stdout",
       "text": [
        "Plotting early_mean\n",
        "Plotting"
       ]
      },
      {
       "output_type": "stream",
       "stream": "stdout",
       "text": [
        " late_mean\n",
        "Plotting"
       ]
      },
      {
       "output_type": "stream",
       "stream": "stdout",
       "text": [
        " switchpoint\n"
       ]
      },
      {
       "metadata": {},
       "output_type": "display_data",
       "png": "[encoded data removed]",
       "text": [
        "<matplotlib.figure.Figure at 0x11440f950>"
       ]
      },
      {
       "metadata": {},
       "output_type": "display_data",
       "png": "[encoded data removed]",
       "text": [
        "<matplotlib.figure.Figure at 0x11475b550>"
       ]
      },
      {
       "metadata": {},
       "output_type": "display_data",
       "png": "[encoded data removed]",
       "text": [
        "<matplotlib.figure.Figure at 0x1143d1650>"
       ]
      }
     ],
     "prompt_number": 34
    },
    {
     "cell_type": "markdown",
     "metadata": {},
     "source": [
      "The upper left-hand pane of each figure shows the temporal series of the\n",
      "samples from each parameter, while below is an autocorrelation plot of\n",
      "the samples. The right-hand pane shows a histogram of the trace. The\n",
      "trace is useful for evaluating and diagnosing the algorithm's\n",
      "performance, while the histogram is useful for\n",
      "visualizing the posterior.\n",
      "\n",
      "For a non-graphical summary of the posterior, simply call the `stats` method."
     ]
    },
    {
     "cell_type": "code",
     "collapsed": false,
     "input": [
      "M.early_mean.summary()"
     ],
     "language": "python",
     "metadata": {},
     "outputs": [
      {
       "output_type": "stream",
       "stream": "stdout",
       "text": [
        "\n",
        "early_mean:\n",
        " \n",
        "\tMean             SD               MC Error        95% HPD interval\n",
        "\t------------------------------------------------------------------\n",
        "\t3.064            0.286            0.006            [ 2.506  3.611]\n",
        "\t\n",
        "\t\n",
        "\tPosterior quantiles:\n",
        "\t\n",
        "\t2.5             25              50              75             97.5\n",
        "\t |---------------|===============|===============|---------------|\n",
        "\t2.524            2.867           3.059          3.254         3.632\n",
        "\t\n"
       ]
      }
     ],
     "prompt_number": 35
    },
    {
     "cell_type": "markdown",
     "metadata": {},
     "source": [
      "### Imputation of Missing Data\n",
      "\n",
      "As with most textbook examples, the models we have examined so far\n",
      "assume that the associated data are complete. That is, there are no\n",
      "missing values corresponding to any observations in the dataset.\n",
      "However, many real-world datasets have missing observations, usually due\n",
      "to some logistical problem during the data collection process. The\n",
      "easiest way of dealing with observations that contain missing values is\n",
      "simply to exclude them from the analysis. However, this results in loss\n",
      "of information if an excluded observation contains valid values for\n",
      "other quantities, and can bias results. An alternative is to impute the\n",
      "missing values, based on information in the rest of the model.\n",
      "\n",
      "For example, consider a survey dataset for some wildlife species:\n",
      "\n",
      "    Count   Site   Observer   Temperature\n",
      "    ------- ------ ---------- -------------\n",
      "    15      1      1          15\n",
      "    10      1      2          NA\n",
      "    6       1      1          11\n",
      "\n",
      "Each row contains the number of individuals seen during the survey,\n",
      "along with three covariates: the site on which the survey was conducted,\n",
      "the observer that collected the data, and the temperature during the\n",
      "survey. If we are interested in modelling, say, population size as a\n",
      "function of the count and the associated covariates, it is difficult to\n",
      "accommodate the second observation because the temperature is missing\n",
      "(perhaps the thermometer was broken that day). Ignoring this observation\n",
      "will allow us to fit the model, but it wastes information that is\n",
      "contained in the other covariates.\n",
      "\n",
      "In a Bayesian modelling framework, missing data are accommodated simply\n",
      "by treating them as unknown model parameters. Values for the missing\n",
      "data $\\tilde{y}$ are estimated naturally, using the posterior predictive\n",
      "distribution:\n",
      "\n",
      "$$p(\\tilde{y}|y) = \\int p(\\tilde{y}|\\theta) f(\\theta|y) d\\theta$$\n",
      "\n",
      "This describes additional data $\\tilde{y}$, which may either be\n",
      "considered unobserved data or potential future observations. We can use\n",
      "the posterior predictive distribution to model the likely values of\n",
      "missing data.\n",
      "\n",
      "Consider the coal mining disasters data introduced previously. Assume\n",
      "that two years of data are missing from the time series; we indicate\n",
      "this in the data array by the use of an arbitrary placeholder value,\n",
      "`None`:"
     ]
    },
    {
     "cell_type": "code",
     "collapsed": false,
     "input": [
      "x = np.array([ 4, 5, 4, 0, 1, 4, 3, 4, 0, 6, 3, 3, 4, 0, 2, 6,\n",
      "3, 3, 5, 4, 5, 3, 1, 4, 4, 1, 5, 5, 3, 4, 2, 5,\n",
      "2, 2, 3, 4, 2, 1, 3, None, 2, 1, 1, 1, 1, 3, 0, 0,\n",
      "1, 0, 1, 1, 0, 0, 3, 1, 0, 3, 2, 2, 0, 1, 1, 1,\n",
      "0, 1, 0, 1, 0, 0, 0, 2, 1, 0, 0, 0, 1, 1, 0, 2,\n",
      "3, 3, 1, None, 2, 1, 1, 1, 1, 2, 4, 2, 0, 0, 1, 4,\n",
      "0, 0, 0, 1, 0, 0, 0, 0, 0, 1, 0, 0, 1, 0, 1])"
     ],
     "language": "python",
     "metadata": {},
     "outputs": [],
     "prompt_number": 36
    },
    {
     "cell_type": "markdown",
     "metadata": {},
     "source": [
      "To estimate these values in PyMC, we generate a *masked array*. These are specialised NumPy arrays that contain a matching True or False value for each element to indicate if that value should be excluded from any computation. Masked arrays can be generated using NumPy's `ma.masked_equal` function:"
     ]
    },
    {
     "cell_type": "code",
     "collapsed": false,
     "input": [
      "masked_values = np.ma.masked_values(x, value=None)\n",
      "masked_values"
     ],
     "language": "python",
     "metadata": {},
     "outputs": [
      {
       "metadata": {},
       "output_type": "pyout",
       "prompt_number": 37,
       "text": [
        "masked_array(data = [4 5 4 0 1 4 3 4 0 6 3 3 4 0 2 6 3 3 5 4 5 3 1 4 4 1 5 5 3 4 2 5 2 2 3 4 2\n",
        " 1 3 -- 2 1 1 1 1 3 0 0 1 0 1 1 0 0 3 1 0 3 2 2 0 1 1 1 0 1 0 1 0 0 0 2 1 0\n",
        " 0 0 1 1 0 2 3 3 1 -- 2 1 1 1 1 2 4 2 0 0 1 4 0 0 0 1 0 0 0 0 0 1 0 0 1 0 1],\n",
        "             mask = [False False False False False False False False False False False False\n",
        " False False False False False False False False False False False False\n",
        " False False False False False False False False False False False False\n",
        " False False False  True False False False False False False False False\n",
        " False False False False False False False False False False False False\n",
        " False False False False False False False False False False False False\n",
        " False False False False False False False False False False False  True\n",
        " False False False False False False False False False False False False\n",
        " False False False False False False False False False False False False\n",
        " False False False],\n",
        "       fill_value = ?)"
       ]
      }
     ],
     "prompt_number": 37
    },
    {
     "cell_type": "markdown",
     "metadata": {},
     "source": [
      "This masked array, in turn, can then be passed to one of PyMC's data\n",
      "stochastic variables, which recognizes the masked array and replaces the\n",
      "missing values with Stochastic variables of the desired type. For the\n",
      "coal mining disasters problem, recall that disaster events were modeled\n",
      "as Poisson variates:"
     ]
    },
    {
     "cell_type": "code",
     "collapsed": false,
     "input": [
      "disasters = Poisson('disasters', mu=rate, \n",
      "                    value=masked_values, observed=True)"
     ],
     "language": "python",
     "metadata": {},
     "outputs": [],
     "prompt_number": 38
    },
    {
     "cell_type": "markdown",
     "metadata": {},
     "source": [
      "Here `rate` is an array of means for each year of data, allocated\n",
      "according to the location of the switchpoint. Each element in\n",
      "`disasters` is a Poisson Stochastic, irrespective of whether the\n",
      "observation was missing or not. The difference is that actual\n",
      "observations are data Stochastics (`observed=True`), while the missing\n",
      "values are non-data Stochastics. The latter are considered unknown,\n",
      "rather than fixed, and therefore estimated by the MCMC algorithm, just\n",
      "as unknown model parameters.\n",
      "\n",
      "The entire model looks very similar to the original model:"
     ]
    },
    {
     "cell_type": "code",
     "collapsed": false,
     "input": [
      "def missing_data_model():\n",
      "\n",
      "    # Switchpoint\n",
      "    switch = DiscreteUniform('switch', lower=0, upper=110)\n",
      "    # Early mean\n",
      "    early_mean = Exponential('early_mean', beta=1)\n",
      "    # Late mean\n",
      "    late_mean = Exponential('late_mean', beta=1)\n",
      "    \n",
      "    @deterministic(plot=False)\n",
      "    def rate(s=switch, e=early_mean, l=late_mean):\n",
      "        \"\"\"Allocate appropriate mean to time series\"\"\"\n",
      "        out = np.empty(len(disasters_array))\n",
      "        # Early mean prior to switchpoint\n",
      "        out[:s] = e\n",
      "        # Late mean following switchpoint\n",
      "        out[s:] = l\n",
      "        return out\n",
      "    \n",
      "    masked_values = np.ma.masked_values(x, value=None)\n",
      "    \n",
      "    # Pass masked array to data stochastic, and it does the right thing\n",
      "    disasters = Poisson('disasters', mu=rate, value=masked_values, observed=True)\n",
      "    \n",
      "    return locals()"
     ],
     "language": "python",
     "metadata": {},
     "outputs": [],
     "prompt_number": 39
    },
    {
     "cell_type": "markdown",
     "metadata": {},
     "source": [
      "Here, we have used the `masked_array` function, rather than\n",
      "`masked_equal`, and the value -999 as a placeholder for missing data.\n",
      "The result is the same."
     ]
    },
    {
     "cell_type": "code",
     "collapsed": false,
     "input": [
      "M_missing = MCMC(missing_data_model())\n",
      "M_missing.sample(5000)"
     ],
     "language": "python",
     "metadata": {},
     "outputs": [
      {
       "output_type": "stream",
       "stream": "stdout",
       "text": [
        "\r",
        " [---------        25%                  ] 1265 of 5000 complete in 0.5 sec"
       ]
      },
      {
       "output_type": "stream",
       "stream": "stdout",
       "text": [
        "\r",
        " [-----------------45%                  ] 2280 of 5000 complete in 1.0 sec"
       ]
      },
      {
       "output_type": "stream",
       "stream": "stdout",
       "text": [
        "\r",
        " [-----------------64%----              ] 3212 of 5000 complete in 1.5 sec"
       ]
      },
      {
       "output_type": "stream",
       "stream": "stdout",
       "text": [
        "\r",
        " [-----------------86%------------      ] 4322 of 5000 complete in 2.0 sec"
       ]
      },
      {
       "output_type": "stream",
       "stream": "stdout",
       "text": [
        "\r",
        " [-----------------100%-----------------] 5000 of 5000 complete in 2.3 sec"
       ]
      }
     ],
     "prompt_number": 40
    },
    {
     "cell_type": "code",
     "collapsed": false,
     "input": [
      "Matplot.plot(M_missing.disasters)"
     ],
     "language": "python",
     "metadata": {},
     "outputs": [
      {
       "output_type": "stream",
       "stream": "stdout",
       "text": [
        "Plotting disasters_0\n",
        "Plotting"
       ]
      },
      {
       "output_type": "stream",
       "stream": "stdout",
       "text": [
        " disasters_1\n"
       ]
      },
      {
       "metadata": {},
       "output_type": "display_data",
       "png": "[encoded data removed]",
       "text": [
        "<matplotlib.figure.Figure at 0x1138b47d0>"
       ]
      }
     ],
     "prompt_number": 42
    },
    {
     "cell_type": "markdown",
     "metadata": {},
     "source": [
      "## Fine-tuning the MCMC algorithm\n",
      "\n",
      "MCMC objects handle individual variables via *step methods*, which\n",
      "determine how parameters are updated at each step of the MCMC algorithm.\n",
      "By default, step methods are automatically assigned to variables by\n",
      "PyMC. To see which step methods $M$ is using, look at its\n",
      "`step_method_dict` attribute with respect to each parameter:"
     ]
    },
    {
     "cell_type": "code",
     "collapsed": false,
     "input": [
      "M.step_method_dict"
     ],
     "language": "python",
     "metadata": {},
     "outputs": [
      {
       "metadata": {},
       "output_type": "pyout",
       "prompt_number": 43,
       "text": [
        "{<pymc.distributions.Exponential 'late_mean' at 0x1143e1c90>: [<pymc.StepMethods.Metropolis at 0x11457f690>],\n",
        " <pymc.distributions.DiscreteUniform 'switchpoint' at 0x114406f50>: [<pymc.StepMethods.DiscreteMetropolis at 0x11457f8d0>],\n",
        " <pymc.distributions.Exponential 'early_mean' at 0x114406f10>: [<pymc.StepMethods.Metropolis at 0x11457fd50>]}"
       ]
      }
     ],
     "prompt_number": 43
    },
    {
     "cell_type": "markdown",
     "metadata": {},
     "source": [
      "The value of `step_method_dict` corresponding to a particular variable\n",
      "is a list of the step methods $M$ is using to handle that variable.\n",
      "\n",
      "You can force $M$ to use a particular step method by calling\n",
      "`M.use_step_method` before telling it to sample. The following call will\n",
      "cause $M$ to handle `late_mean` with a standard `Metropolis` step\n",
      "method, but with proposal standard deviation equal to $2$:"
     ]
    },
    {
     "cell_type": "code",
     "collapsed": false,
     "input": [
      "from pymc import Metropolis\n",
      "M.use_step_method(Metropolis, disaster_model.late_mean, proposal_sd=2.)"
     ],
     "language": "python",
     "metadata": {},
     "outputs": [],
     "prompt_number": 44
    },
    {
     "cell_type": "markdown",
     "metadata": {},
     "source": [
      "Another step method class, `AdaptiveMetropolis`, is better at handling\n",
      "highly-correlated variables. If your model mixes poorly, using\n",
      "`AdaptiveMetropolis` is a sensible first thing to try."
     ]
    },
    {
     "cell_type": "markdown",
     "metadata": {},
     "source": [
      "---"
     ]
    },
    {
     "cell_type": "code",
     "collapsed": false,
     "input": [
      "from IPython.core.display import HTML\n",
      "def css_styling():\n",
      "    styles = open(\"styles/custom.css\", \"r\").read()\n",
      "    return HTML(styles)\n",
      "css_styling()\n"
     ],
     "language": "python",
     "metadata": {},
     "outputs": [
      {
       "html": [
        "<style>\n",
        "    @font-face {\n",
        "        font-family: \"Computer Modern\";\n",
        "        src: url('http://mirrors.ctan.org/fonts/cm-unicode/fonts/otf/cmunss.otf');\n",
        "    }\n",
        "    div.cell{\n",
        "        width: 90%;\n",
        "/*        margin-left:auto;*/\n",
        "/*        margin-right:auto;*/\n",
        "    }\n",
        "    ul {\n",
        "        line-height: 145%;\n",
        "        font-size: 90%;\n",
        "    }\n",
        "    li {\n",
        "        margin-bottom: 1em;\n",
        "    }\n",
        "    h1 {\n",
        "        font-family: Helvetica, serif;\n",
        "    }\n",
        "    h4{\n",
        "        margin-top: 12px;\n",
        "        margin-bottom: 3px;\n",
        "       }\n",
        "    div.text_cell_render{\n",
        "        font-family: Computer Modern, \"Helvetica Neue\", Arial, Helvetica, Geneva, sans-serif;\n",
        "        line-height: 145%;\n",
        "        font-size: 130%;\n",
        "        width: 90%;\n",
        "        margin-left:auto;\n",
        "        margin-right:auto;\n",
        "    }\n",
        "    .CodeMirror{\n",
        "            font-family: \"Source Code Pro\", source-code-pro,Consolas, monospace;\n",
        "    }\n",
        "/*    .prompt{\n",
        "        display: None;\n",
        "    }*/\n",
        "    .text_cell_render h5 {\n",
        "        font-weight: 300;\n",
        "        font-size: 16pt;\n",
        "        color: #4057A1;\n",
        "        font-style: italic;\n",
        "        margin-bottom: 0.5em;\n",
        "        margin-top: 0.5em;\n",
        "        display: block;\n",
        "    }\n",
        "\n",
        "    .warning{\n",
        "        color: rgb( 240, 20, 20 )\n",
        "        }\n",
        "</style>\n",
        "<script>\n",
        "    MathJax.Hub.Config({\n",
        "                        TeX: {\n",
        "                           extensions: [\"AMSmath.js\"]\n",
        "                           },\n",
        "                tex2jax: {\n",
        "                    inlineMath: [ ['$','$'], [\"\\\\(\",\"\\\\)\"] ],\n",
        "                    displayMath: [ ['$$','$$'], [\"\\\\[\",\"\\\\]\"] ]\n",
        "                },\n",
        "                displayAlign: 'center', // Change this to 'center' to center equations.\n",
        "                \"HTML-CSS\": {\n",
        "                    styles: {'.MathJax_Display': {\"margin\": 4}}\n",
        "                }\n",
        "        });\n",
        "</script>"
       ],
       "metadata": {},
       "output_type": "pyout",
       "prompt_number": 45,
       "text": [
        "<IPython.core.display.HTML at 0x114747bd0>"
       ]
      }
     ],
     "prompt_number": 45
    }
   ],
   "metadata": {}
  }
 ]
}