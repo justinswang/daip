{
 "metadata": {
  "name": "",
  "signature": "sha256:3581adf340e3e01acd46be8b8a517eaf51458bc43388ccab8d296784ba3d78d7"
 },
 "nbformat": 3,
 "nbformat_minor": 0,
 "worksheets": [
  {
   "cells": [
    {
     "cell_type": "heading",
     "level": 1,
     "metadata": {},
     "source": [
      "Expectation Maximization Algorithm"
     ]
    },
    {
     "cell_type": "markdown",
     "metadata": {},
     "source": [
      "Expectation maximization (EM) uses iterative optimization along with a latent variable model to obtain maximum likelihood estimates for models whose parameters are difficult to estimate directly. It may not be intuitive how introducing latent (missing) elements to a problem will facilitate its solution, but it works essentially by breaking the optimization into two steps:\n",
      "\n",
      "1. generating an **expectation** over the missing variable(s) based on current estimates of parameters\n",
      "2. **maximizing** the log-likelihood from the expectation step, thereby generating updated estimates of parameters\n",
      "\n",
      "EM is particularly suited to estimating the parameters of *mixture models*, where we do not know from which component each observation is derived."
     ]
    },
    {
     "cell_type": "markdown",
     "metadata": {},
     "source": [
      "In general, suppose we have observed quantities $x = x_1,\\ldots,x_n$ and unobserved (latent) quantities $z$ that are derived from some joint model:\n",
      "\n",
      "$$(x,z) \\sim P(x,z|\\theta)$$\n",
      "\n",
      "We are interested in obtaining the MLE for the marginal distribution of $X$:\n",
      "\n",
      "$$x \\sim P(x|\\theta)$$\n",
      "\n",
      "However, it is difficult to marginalize over $Z$ and maximize. EM gets around this by iteratively improving an initial estimate $\\theta^{(0)}$."
     ]
    },
    {
     "cell_type": "markdown",
     "metadata": {},
     "source": [
      "## Example: Mixture of normals\n",
      "\n",
      "Consider a set of observations, each of which has been drawn from one of two populations:\n",
      "\n",
      "$$x^{(a)} \\sim N(\\mu_a, \\sigma^2_a)$$\n",
      "$$x^{(b)} \\sim N(\\mu_b, \\sigma^2_b)$$\n",
      "\n",
      "except we only observe the values for $x = [x^{(a)}, x^{(b)}]$, not the labels which identify which population they are derived from."
     ]
    },
    {
     "cell_type": "code",
     "collapsed": false,
     "input": [
      "%matplotlib inline\n",
      "import numpy as np\n",
      "import matplotlib.pyplot as plt\n",
      "\n",
      "# True parameter values\n",
      "mu_true = [2, 5]\n",
      "sigma_true = [1, 2]\n",
      "psi_true = .4\n",
      "n = 100\n",
      "\n",
      "# Simulate from each distribution according to mixing proportion psi\n",
      "z = np.random.binomial(1, psi_true, n)\n",
      "x = [np.random.normal(mu_true[i], sigma_true[i]) for i in z]\n",
      "\n",
      "_ = plt.hist(x, bins=20)"
     ],
     "language": "python",
     "metadata": {},
     "outputs": [
      {
       "metadata": {},
       "output_type": "display_data",
       "png": "[encoded data removed]",
       "text": [
        "<matplotlib.figure.Figure at 0x108cabf90>"
       ]
      }
     ],
     "prompt_number": 1
    },
    {
     "cell_type": "markdown",
     "metadata": {},
     "source": [
      "The joint distribution of $x$ and $z$ can be factorized into:\n",
      "\n",
      "$$P(x_i,z_i) = P(x_i \\,|\\, z_i)P(z_i)$$\n",
      "\n",
      "It is reasonable to model $z$ as:\n",
      "\n",
      "$$\\{z_i\\} \\sim \\text{Bernoulli}(\\psi)$$\n",
      "\n",
      "where $\\psi$ is the probability of membership in group \"b\" (hence, $1-\\psi$ is the probability of group \"a\" membership). Note that this generalizes to $k$ components in the mixture, where $z_i \\sim \\text{Multinomial}(\\psi)$ with $\\psi$ of dimension $k-1$.\n",
      "\n",
      "Clearly, the distribution of $x$ conditional on $z$ is:\n",
      "\n",
      "$$(x_i | z_i = j) \\sim N(\\mu_j, \\sigma_j)$$\n",
      "\n",
      "If we knew the $\\{z_i\\}$, then we could simply use MLE to obtain estimates for the paramters of the model. However, we do not know the labels, which makes this a form of *unsupervised learning*.\n",
      "\n"
     ]
    },
    {
     "cell_type": "markdown",
     "metadata": {},
     "source": [
      "### Algorithm\n",
      "\n",
      "Continuing with the mixture of normals model as our example, we can apply the EM algorithm to estimate $\\theta = \\{\\mu, \\sigma, \\psi\\}$.\n",
      "\n",
      "**Initiazlize** $\\theta_0 = \\{\\mu_0, \\sigma_0, \\psi_0\\}$\n",
      "\n",
      "**Repeat until convergence:**\n",
      "\n",
      "- **E-step**: guess the values of $\\{z_i\\}$\n",
      "\n",
      "    Compute probabilities of group membership: $w_{ij} = P(z_i = j | x_i, \\theta)$ for each group $j=1,\\ldots,k$. This is done via Bayes' formula:\n",
      "    \n",
      "    $$P(z_i = j | x_i) = \\frac{P(x_i | z_i=j) P(z_i=j)}{\\sum_{l=1}^k P(x_i | z_i=l) P(z_i=l)}$$\n",
      "    \n",
      "    $\\theta$ has been dropped for notational convenience.\n",
      "    \n",
      "- **M-step**: update estimates of parameters $\\theta$\n",
      "\n",
      "    $$\\begin{aligned}\\psi_j &= \\frac{1}{m} \\sum_i w_{ij} \\\\\n",
      "      \\mu_j &= \\frac{\\sum_i w_{ij} x_i}{\\sum_i w_{ij}} \\\\\n",
      "      \\sigma_j &= \\frac{\\sum_i w_{ij}(x_i - \\mu_j)^2}{\\sum_i w_{ij}}\n",
      "    \\end{aligned}$$"
     ]
    },
    {
     "cell_type": "markdown",
     "metadata": {},
     "source": [
      "### General formulation\n",
      "\n",
      "Recall **Jensen's inequality**:\n",
      "\n",
      "> Let $f$ be a convex function (*i.e.* $f^{\\prime\\prime} \\ge 0$) of a random variable X. Then:\n",
      "> $f(E[X]) \\le E[f(X)]$\n",
      "\n",
      "And when $f$ is *strictly* convex, then:\n",
      "\n",
      "$$E[f(X)] = f(E[X]) \\iff X = E[X]$$\n",
      "\n",
      "with probability 1.\n",
      "\n",
      "Consider again the joint density $P(x,z|\\theta)$, where only $x$ is observed. We want to be able to maximize:\n",
      "\n",
      "$$\\begin{aligned}\n",
      "l(x \\,|\\, \\theta) &= \\sum_i \\log P(x_i \\,|\\, \\theta) \\\\\n",
      "&= \\sum_i \\log \\sum_{z_i} P(x_i, z_i \\,|\\, \\theta)\n",
      "\\end{aligned}$$\n",
      "\n",
      "however, evaluating this is difficult when the $\\{z_i\\}$ are unobserved.\n",
      "\n",
      "The EM algorithm iteratively calculates *lower bounds on the likelihood* for the current values of the parameters, then *maximizes the lower bound* to update the parameters.\n",
      "\n",
      "Since $z_i$ is a random variable, perhaps we can construct its density $Q_i$ and use it to marginalize the joint likelihood:\n",
      "\n",
      "$$\\sum_i \\log \\sum_{z_i} P(x_i, z_i \\,|\\, \\theta) = \\sum_i \\log \\sum_{z_i} Q_i(z_i) \\frac{P(x_i, z_i \\,|\\, \\theta)}{Q_i(z_i)}$$\n",
      "\n",
      "This turns the inner summation into an expectation.\n",
      "\n",
      "$$\\sum_i \\log \\sum_{z_i} Q_i(z_i) \\frac{P(x_i, z_i \\,|\\, \\theta)}{Q_i(z_i)} = \\sum_i \\log E_{Q_i} \\left[ \\frac{P(x_i, z_i \\,|\\, \\theta)}{Q_i(z_i)} \\right]$$\n",
      "\n",
      "Now, if we apply Jensen's inequality:\n",
      "\n",
      "$$\\begin{aligned}\n",
      "\\sum_i \\log E_{Q_i} \\left[ \\frac{P(x_i, z_i \\,|\\, \\theta)}{Q_i(z_i)} \\right] &\\ge \\sum_i  E_{Q_i} \\log \\left[ \\frac{P(x_i, z_i \\,|\\, \\theta)}{Q_i(z_i)} \\right] \\\\\n",
      "&= \\sum_i \\sum_{z_i}  Q_i(z_i) \\log \\left[ \\frac{P(x_i, z_i \\,|\\, \\theta)}{Q_i(z_i)} \\right]\n",
      "\\end{aligned}$$\n",
      "\n",
      "We need to ensure that the equality condition holds true, which we can do by choosing $Q_i$ appropriately. Specifically, we want a $Q_i$ such that:\n",
      "\n",
      "$$\\frac{P(x_i, z_i \\,|\\, \\theta)}{Q_i(z_i)} = C$$\n",
      "\n",
      "which implies:\n",
      "\n",
      "$$Q_i(z_i) \\propto P(x_i, z_i \\,|\\, \\theta)$$\n",
      "\n",
      "Since $Q_i$ is a density,\n",
      "\n",
      "$$\\begin{aligned}\n",
      "Q_i(z_i) &= \\frac{P(x_i, z_i \\,|\\, \\theta)}{\\sum_{z_i} P(x_i, z_i \\,|\\, \\theta)} \\\\\n",
      "&= \\frac{P(x_i, z_i \\,|\\, \\theta)}{P(x_i \\,|\\, \\theta)} \\\\\n",
      "&= P(z_i \\,|\\, x_i, \\theta)\n",
      "\\end{aligned}$$"
     ]
    },
    {
     "cell_type": "markdown",
     "metadata": {},
     "source": [
      "Returning to our normal mixture example:\n",
      "\n",
      "For the **E-step** we need to identify $Q_i(z_i)$\n",
      "\n",
      "$$Q_i(z_i) = P(z_i \\,|\\, x_i, \\mu, \\sigma, \\psi)$$\n",
      "\n",
      "Via Bayes' formula:\n",
      "\n",
      "$$P(z_i=j \\,|\\, x_i) = \\frac{P(x_i \\,|\\, z_i=j)P(z_i=j)}{\\sum_l P(x_i \\,|\\, z_i=l)P(z_i=l)}$$\n",
      "\n",
      "where $P(x_i \\,|\\, z_i=l)$ is just the $j$th Normal distribution of the mixture, and $P(z_i=l)$ is a multinomial probability.\n",
      "\n",
      "This gives us:\n",
      "\n",
      "$$P(z_i=1 \\,|\\, x_i) = \\frac{\\psi N(\\mu_b, \\sigma_b^2)}{\\psi N(\\mu_a, \\sigma_a^2) + (1-\\psi) N(\\mu_b, \\sigma_b^2)}$$\n",
      "\n",
      "(recall that we are encoding `a=0` and `b=1`)\n",
      "\n",
      "This can be implemented easily in Python:"
     ]
    },
    {
     "cell_type": "code",
     "collapsed": false,
     "input": [
      "from scipy.stats.distributions import norm\n",
      "\n",
      "def Estep(x, mu, sigma, psi):\n",
      "    a = psi * norm.pdf(x, mu[0], sigma[0])\n",
      "    b = (1. - psi) * norm.pdf(x, mu[1], sigma[1])\n",
      "    return b / (a + b)"
     ],
     "language": "python",
     "metadata": {},
     "outputs": [],
     "prompt_number": 2
    },
    {
     "cell_type": "code",
     "collapsed": false,
     "input": [
      "Estep(4, mu_true, sigma_true, psi_true)"
     ],
     "language": "python",
     "metadata": {},
     "outputs": [
      {
       "metadata": {},
       "output_type": "pyout",
       "prompt_number": 3,
       "text": [
        "0.83023841958766409"
       ]
      }
     ],
     "prompt_number": 3
    },
    {
     "cell_type": "code",
     "collapsed": false,
     "input": [
      "x_range = np.linspace(-5,5)\n",
      "plt.plot(x_range, Estep(x_range, mu_true, sigma_true, psi_true))"
     ],
     "language": "python",
     "metadata": {},
     "outputs": [
      {
       "metadata": {},
       "output_type": "pyout",
       "prompt_number": 4,
       "text": [
        "[<matplotlib.lines.Line2D at 0x10a403e50>]"
       ]
      },
      {
       "metadata": {},
       "output_type": "display_data",
       "png": "[encoded data removed]",
       "text": [
        "<matplotlib.figure.Figure at 0x10a4a47d0>"
       ]
      }
     ],
     "prompt_number": 4
    },
    {
     "cell_type": "markdown",
     "metadata": {},
     "source": [
      "For the **M-step** we need to maximize\n",
      "\n",
      "$$\\text{argmax}_{\\mu,\\Sigma, \\psi}  \\sum_i \\sum_{z_i}  Q_i(z_i) \\log \\left[ \\frac{P(x_i, z_i \\,|\\, \\theta)}{Q_i(z_i)} \\right] = \\sum_i \\sum_{z_i} w_{ij} \\log \\left[\\frac{1}{\\sqrt{2 \\pi} \\, |\\Sigma_j|^{1/2} \\, w_{ij}} e^{-\\frac{1}{2} (x_i - \\mu_j) \\Sigma^{-1} (x_i - \\mu_j))} \\psi_j\\right]$$\n",
      "\n",
      "which we can show is\n",
      "\n",
      "$$\\begin{aligned}\\psi_j &= \\frac{1}{m} \\sum_i w_{ij} \\\\\n",
      "\\mu_j &= \\frac{\\sum_i w_{ij} x_i}{\\sum_i w_{ij}} \\\\\n",
      "\\sigma_j &= \\frac{\\sum_i w_{ij}(x_i - \\mu_j)^2}{\\sum_i w_{ij}}\n",
      "\\end{aligned}$$\n",
      "\n",
      "This can be coded into Python as `Mstep`:"
     ]
    },
    {
     "cell_type": "code",
     "collapsed": false,
     "input": [
      "def Mstep(x, w):\n",
      "    psi = np.mean(w) \n",
      "    \n",
      "    mu = [np.sum((1-w) * x)/np.sum(1-w), np.sum(w * x)/np.sum(w)]\n",
      "    \n",
      "    sigma = [np.sqrt(np.sum((1-w) * (x - mu[0])**2)/np.sum(1-w)), \n",
      "             np.sqrt(np.sum(w * (x - mu[1])**2)/np.sum(w))]\n",
      "    \n",
      "    return mu, sigma, psi"
     ],
     "language": "python",
     "metadata": {},
     "outputs": [],
     "prompt_number": 5
    },
    {
     "cell_type": "code",
     "collapsed": false,
     "input": [
      "# Initialize values\n",
      "mu = np.random.normal(size=2)\n",
      "sigma = np.random.uniform(0, 10, 2)\n",
      "psi = np.random.random()\n",
      "\n",
      "# Stopping criterion\n",
      "crit = 1e-6\n",
      "\n",
      "# Convergence flag\n",
      "converged = False\n",
      "\n",
      "# Loop until converged\n",
      "while not converged:\n",
      "    \n",
      "    # E-step\n",
      "    w = Estep(x, mu, sigma, psi)\n",
      "    # M-step\n",
      "    mu_new, sigma_new, psi_new = Mstep(x, w)\n",
      "    \n",
      "    # Check convergence\n",
      "    converged = ((np.abs(psi_new - psi) < crit) \n",
      "                 & np.all(np.abs((np.array(mu_new) - np.array(mu)) < crit))\n",
      "                 & np.all(np.abs((np.array(sigma_new) - np.array(sigma)) < crit)))\n",
      "    mu, sigma, psi = mu_new, sigma_new, psi_new\n",
      "                \n",
      "print('A: N({0:.4f}, {1:.4f})\\nB: N({2:.4f}, {3:.4f})\\npsi: {4:.4f}'.format(\n",
      "                        mu_new[0], sigma_new[0], mu_new[1], sigma_new[1], psi_new))"
     ],
     "language": "python",
     "metadata": {},
     "outputs": [
      {
       "output_type": "stream",
       "stream": "stdout",
       "text": [
        "A: N(4.2546, 2.3806)\n",
        "B: N(1.8340, 0.9199)\n",
        "psi: 0.4973\n"
       ]
      }
     ],
     "prompt_number": 6
    },
    {
     "cell_type": "markdown",
     "metadata": {},
     "source": [
      "### Exercise: Zero-inflated data\n",
      "\n",
      "Code the EM algorithm to estimate the paramters of a zero-inflated Poisson (ZIP) model."
     ]
    },
    {
     "cell_type": "code",
     "collapsed": false,
     "input": [
      "import numpy as np\n",
      "\n",
      "# True parameter values\n",
      "mu_true = 1.5\n",
      "psi_true = .4\n",
      "n = 100\n",
      "\n",
      "# Simulate some data\n",
      "data = np.array([np.random.poisson(mu_true)*(np.random.random()<psi_true) for i in range(n)])\n",
      "plt.hist(data, bins=9)"
     ],
     "language": "python",
     "metadata": {},
     "outputs": [
      {
       "metadata": {},
       "output_type": "pyout",
       "prompt_number": 8,
       "text": [
        "(array([ 74.,   0.,  14.,   0.,   8.,   0.,   2.,   0.,   2.]),\n",
        " array([ 0.        ,  0.44444444,  0.88888889,  1.33333333,  1.77777778,\n",
        "         2.22222222,  2.66666667,  3.11111111,  3.55555556,  4.        ]),\n",
        " <a list of 9 Patch objects>)"
       ]
      },
      {
       "metadata": {},
       "output_type": "display_data",
       "png": "[encoded data removed]",
       "text": [
        "<matplotlib.figure.Figure at 0x10a4126d0>"
       ]
      }
     ],
     "prompt_number": 8
    },
    {
     "cell_type": "markdown",
     "metadata": {},
     "source": [
      "## Notes\n",
      "\n",
      "The EM algorithm guaranteees that $P(x \\,|\\, \\theta^{(i+1)}) \\ge  P(x \\,|\\,  \\theta^{(i)})$, however there is no guarantee that we will obtain the true MLE (due to multimodality).\n",
      "\n",
      "Convergence of the EM algorithm can be slow, and it works best for likelihoods of the [exponential family of distributions](https://en.wikipedia.org/wiki/Exponential_family).\n",
      "\n",
      "In a Bayesian context, EM can also be used to obtain a maximum a posteriori (MAP) estimate for $\\theta$."
     ]
    },
    {
     "cell_type": "markdown",
     "metadata": {},
     "source": [
      "### Sources\n",
      "\n",
      "[Python for Signal Processing](http://python-for-signal-processing.blogspot.com/2012/11/expectation-maximization-expectation.html)\n",
      "\n",
      "[Stanford University's Machine Learning (Coursera)](https://www.coursera.org/course/ml)"
     ]
    },
    {
     "cell_type": "code",
     "collapsed": false,
     "input": [
      "from IPython.core.display import HTML\n",
      "def css_styling():\n",
      "    styles = open(\"styles/custom.css\", \"r\").read()\n",
      "    return HTML(styles)\n",
      "css_styling()"
     ],
     "language": "python",
     "metadata": {},
     "outputs": [
      {
       "html": [
        "<style>\n",
        "    @font-face {\n",
        "        font-family: \"Computer Modern\";\n",
        "        src: url('http://mirrors.ctan.org/fonts/cm-unicode/fonts/otf/cmunss.otf');\n",
        "    }\n",
        "    div.cell{\n",
        "        width: 90%;\n",
        "/*        margin-left:auto;*/\n",
        "/*        margin-right:auto;*/\n",
        "    }\n",
        "    ul {\n",
        "        line-height: 145%;\n",
        "        font-size: 90%;\n",
        "    }\n",
        "    li {\n",
        "        margin-bottom: 1em;\n",
        "    }\n",
        "    h1 {\n",
        "        font-family: Helvetica, serif;\n",
        "    }\n",
        "    h4{\n",
        "        margin-top: 12px;\n",
        "        margin-bottom: 3px;\n",
        "       }\n",
        "    div.text_cell_render{\n",
        "        font-family: Computer Modern, \"Helvetica Neue\", Arial, Helvetica, Geneva, sans-serif;\n",
        "        line-height: 145%;\n",
        "        font-size: 130%;\n",
        "        width: 90%;\n",
        "        margin-left:auto;\n",
        "        margin-right:auto;\n",
        "    }\n",
        "    .CodeMirror{\n",
        "            font-family: \"Source Code Pro\", source-code-pro,Consolas, monospace;\n",
        "    }\n",
        "/*    .prompt{\n",
        "        display: None;\n",
        "    }*/\n",
        "    .text_cell_render h5 {\n",
        "        font-weight: 300;\n",
        "        font-size: 16pt;\n",
        "        color: #4057A1;\n",
        "        font-style: italic;\n",
        "        margin-bottom: 0.5em;\n",
        "        margin-top: 0.5em;\n",
        "        display: block;\n",
        "    }\n",
        "\n",
        "    .warning{\n",
        "        color: rgb( 240, 20, 20 )\n",
        "        }\n",
        "</style>\n",
        "<script>\n",
        "    MathJax.Hub.Config({\n",
        "                        TeX: {\n",
        "                           extensions: [\"AMSmath.js\"]\n",
        "                           },\n",
        "                tex2jax: {\n",
        "                    inlineMath: [ ['$','$'], [\"\\\\(\",\"\\\\)\"] ],\n",
        "                    displayMath: [ ['$$','$$'], [\"\\\\[\",\"\\\\]\"] ]\n",
        "                },\n",
        "                displayAlign: 'center', // Change this to 'center' to center equations.\n",
        "                \"HTML-CSS\": {\n",
        "                    styles: {'.MathJax_Display': {\"margin\": 4}}\n",
        "                }\n",
        "        });\n",
        "</script>"
       ],
       "metadata": {},
       "output_type": "pyout",
       "prompt_number": 9,
       "text": [
        "<IPython.core.display.HTML at 0x10a4b4dd0>"
       ]
      }
     ],
     "prompt_number": 9
    }
   ],
   "metadata": {}
  }
 ]
}