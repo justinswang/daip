{
 "metadata": {
  "kernelspec": {
   "codemirror_mode": {
    "name": "ipython",
    "version": 2
   },
   "display_name": "IPython (Python 2)",
   "language": "python",
   "name": "python2"
  },
  "name": "",
  "signature": "sha256:28a367a57bd0dc568902c6308d0d45c31932136b78e81cea5250f7209837f4d8"
 },
 "nbformat": 3,
 "nbformat_minor": 0,
 "worksheets": [
  {
   "cells": [
    {
     "cell_type": "markdown",
     "metadata": {},
     "source": [
      "# Parallel Processing in Python\n",
      "\n",
      "An obvious way to improve the performance of Python code is to make it run in parallel. Any relatively new computer will have multiple cores, which means that several processors can operate on the same data stored on memory. However, most of the code we have written in the course so far does not take advantage of more than one of them. In addition there is now widespread availability of computing clusters, such as [those offered for use by Amazon](http://aws.amazon.com/ec2/) (Vanderbilt also has [its own cluster](http://www.accre.vanderbilt.edu)). Clusters allow several computers to work together by exchanging data over a network.\n",
      "\n",
      "Parallel computing involves breaking a task into several independent sub-tasks, distributing these sub-tasks to available processors or computers, then coordinating the execution of these tasks and combining their outputs in an appropriate way.\n",
      "\n",
      "There are several different models for parallel processing, including:\n",
      "\n",
      "* **Message passing**: processes or other program components running in parallel communicate by sending and receiving messages, which allows for easy synchronization. \n",
      "* **Multi-threading**: within a single process, some architectures allow for the existence of several \"threads\", which execute independently, though they share the memory and state of the process in which they reside. Multi-threading is good for increasing *throughput* and reducing *latency*.\n",
      "* **Task farming**: a master process delegates independent calculations to available processors (task farm), and collects their outputs when complete.\n",
      "* **Single program, multiple data (SPMD)** Probably the most common type of parallel processing, in which tasks are split up and run simultaneously on multiple processors with different input in order to obtain results faster. All tasks execute their copy of the same program simultaneously.\n",
      "* **Multiple program, multiple data (MPMD)** Like SPMD, except each task may be executing a different program."
     ]
    },
    {
     "cell_type": "markdown",
     "metadata": {},
     "source": [
      "## `multiprocessing`\n",
      "\n",
      "The simplest way (though probably not the best) for performing parallel computing in Python is via the built-in process-based library for concurrent computing, called `multiprocessing`. "
     ]
    },
    {
     "cell_type": "code",
     "collapsed": false,
     "input": [
      "import multiprocessing\n",
      "import os\n",
      "import numpy as np"
     ],
     "language": "python",
     "metadata": {},
     "outputs": [],
     "prompt_number": 1
    },
    {
     "cell_type": "markdown",
     "metadata": {},
     "source": [
      "The `multiprocessing` module parallelizes by launching multiple *processes*, each with a seperate interpretor. You may have already heard about *threads*. Processes and threads are not the same:\n",
      "\n",
      "* processes are independent of one another, each having their own state, memory and address spaces\n",
      "* threads share resources, and are therefore interdependent; they are subunits of the same process\n",
      "\n",
      "Since processes are independent, they now have independent Global Interpreter Locks (GILs),  its best to run multiprocessing on multiple CPUs. You can check how many you have on your machine:"
     ]
    },
    {
     "cell_type": "code",
     "collapsed": false,
     "input": [
      "multiprocessing.cpu_count()"
     ],
     "language": "python",
     "metadata": {},
     "outputs": [
      {
       "metadata": {},
       "output_type": "pyout",
       "prompt_number": 2,
       "text": [
        "4"
       ]
      }
     ],
     "prompt_number": 2
    },
    {
     "cell_type": "markdown",
     "metadata": {},
     "source": [
      "### `Process` class\n",
      "\n",
      "The `Process` class encapsulates a task running in a process. It will usually have a `target` argument that is some callable (function/method) that is executed when the process runs, along with optional arguments that can be passed to the target.\n",
      "\n",
      "A `Process` has several methods, with some useful ones being:\n",
      "\n",
      "* `is_alive`: Returns `True` if the process is running.\n",
      "* `join`: Waits for the process to finish its work and terminate. An optional `timeout` argument can be passed.\n",
      "* `run`: When the process starts, this method is called to invoke the `target`.\n",
      "* `terminate`: Kills the process forcibly, without any cleanup.\n",
      "\n",
      "A `Process` also has several other non-callable attributes, such as `pid`, `name` and `authkey`.\n",
      "\n",
      "Here is a trivial example of using the `Process` class, showing that each has its own process ID."
     ]
    },
    {
     "cell_type": "code",
     "collapsed": false,
     "input": [
      "import os\n",
      "\n",
      "def job(n):\n",
      "    print('I am working on job {0} running on PID {1}'.format(n, os.getpid()))\n",
      "\n",
      "jobs = []\n",
      "for i in range(5):\n",
      "    p = multiprocessing.Process(target=job, args=(i,))\n",
      "    jobs.append(p)\n",
      "    p.start()"
     ],
     "language": "python",
     "metadata": {},
     "outputs": [
      {
       "output_type": "stream",
       "stream": "stdout",
       "text": [
        "I am working on job 0 running on PID 36380\n",
        "I am working on job 1 running on PID 36381\n",
        "I am working on job 2 running on PID 36382\n"
       ]
      }
     ],
     "prompt_number": 3
    },
    {
     "cell_type": "code",
     "collapsed": false,
     "input": [
      "jobs"
     ],
     "language": "python",
     "metadata": {},
     "outputs": [
      {
       "output_type": "stream",
       "stream": "stdout",
       "text": [
        "I am working on job 3 running on PID 36383\n",
        "I am working on job 4 running on PID 36384\n"
       ]
      },
      {
       "metadata": {},
       "output_type": "pyout",
       "prompt_number": 4,
       "text": [
        "[<Process(Process-1, stopped)>,\n",
        " <Process(Process-2, stopped)>,\n",
        " <Process(Process-3, stopped)>,\n",
        " <Process(Process-4, stopped)>,\n",
        " <Process(Process-5, stopped)>]"
       ]
      }
     ],
     "prompt_number": 4
    },
    {
     "cell_type": "markdown",
     "metadata": {},
     "source": [
      "We can easily subclass `Process` to our liking:"
     ]
    },
    {
     "cell_type": "code",
     "collapsed": false,
     "input": [
      "class FibProcess(multiprocessing.Process):\n",
      "    \n",
      "    def __init__(self, n):\n",
      "        self.n = n\n",
      "        multiprocessing.Process.__init__(self)\n",
      "        \n",
      "    def run(self):\n",
      "        a, b = 0, 1\n",
      "        for i in range(self.n):\n",
      "            a, b = b, a + b"
     ],
     "language": "python",
     "metadata": {},
     "outputs": [],
     "prompt_number": 5
    },
    {
     "cell_type": "code",
     "collapsed": false,
     "input": [
      "p = FibProcess(10000)\n",
      "p.start()\n",
      "print(p.pid)\n",
      "p.join()\n",
      "print(p.exitcode)"
     ],
     "language": "python",
     "metadata": {},
     "outputs": [
      {
       "output_type": "stream",
       "stream": "stdout",
       "text": [
        "36385\n",
        "0\n"
       ]
      }
     ],
     "prompt_number": 6
    },
    {
     "cell_type": "markdown",
     "metadata": {},
     "source": [
      "### `Queue` class\n",
      "\n",
      "Of course, despite being independent, we would like our processes to communicate with one another, for example, to share data. One way to facilitate this in `multiprocessing` is via the `Queue` class, a thread/process safe, first-in-first-out (FIFO) data structure that can store any serializable Python object.\n",
      "\n",
      "A `Queue`'s important methods include:\n",
      "\n",
      "* `put`: Adds item to `Queue`.\n",
      "* `get`: Fetches next item from `Queue`.\n",
      "* `close`: Closes the `Queue`, preventing the addition of more data.\n",
      "* `empty`: Returns True if the `Queue` is empty.\n",
      "* `full`: Returns True if full.\n",
      "* `qsize`: Retuns approximate current number of items in `Queue`.\n",
      "\n",
      "A subclass of `Queue` is the `JoinableQueue`, which has additional methods, notably `join`, which waits until all the items have been processed, blocking the addition of new items.\n"
     ]
    },
    {
     "cell_type": "code",
     "collapsed": false,
     "input": [
      "from multiprocessing import Queue\n",
      "\n",
      "q = Queue()\n",
      "\n",
      "q.put(-1)\n",
      "q.put('foobar')\n",
      "q.put(5)\n",
      "\n",
      "print(q.get())\n",
      "print(q.get())"
     ],
     "language": "python",
     "metadata": {},
     "outputs": [
      {
       "output_type": "stream",
       "stream": "stdout",
       "text": [
        "-1\n",
        "foobar\n"
       ]
      }
     ],
     "prompt_number": 7
    },
    {
     "cell_type": "markdown",
     "metadata": {},
     "source": [
      "Here's a toy example of `Queue` usage, where a process is fed items from a function, until it receives a `None` object.\n",
      "\n",
      "First, a function to execute a task with items from a `Queue`:"
     ]
    },
    {
     "cell_type": "code",
     "collapsed": false,
     "input": [
      "def consumer(q):\n",
      "    while True:\n",
      "        thing = q.get()\n",
      "        if thing is None:\n",
      "            break\n",
      "        print('Consuming {}'.format(thing))\n",
      "    print(\"\\nFinished consuming\")"
     ],
     "language": "python",
     "metadata": {},
     "outputs": [],
     "prompt_number": 8
    },
    {
     "cell_type": "markdown",
     "metadata": {},
     "source": [
      "Complementing this is another function that provisions the `Queue` with items:"
     ]
    },
    {
     "cell_type": "code",
     "collapsed": false,
     "input": [
      "def producer(sequence, q):\n",
      "    for thing in sequence:\n",
      "        q.put(thing)"
     ],
     "language": "python",
     "metadata": {},
     "outputs": [],
     "prompt_number": 9
    },
    {
     "cell_type": "markdown",
     "metadata": {},
     "source": [
      "Initialize the `Queue` and start the `consumer` process:"
     ]
    },
    {
     "cell_type": "code",
     "collapsed": false,
     "input": [
      "queue = multiprocessing.Queue()\n",
      "\n",
      "consumer_process = multiprocessing.Process(target=consumer, args=[queue])\n",
      "consumer_process.start()"
     ],
     "language": "python",
     "metadata": {},
     "outputs": [],
     "prompt_number": 10
    },
    {
     "cell_type": "markdown",
     "metadata": {},
     "source": [
      "Feed the `Queue` and process until finished:"
     ]
    },
    {
     "cell_type": "code",
     "collapsed": false,
     "input": [
      "stuff = [42, 'foobar', True, range(5)]\n",
      "producer(stuff, queue)\n",
      "\n",
      "queue.put(None)\n",
      "consumer_process.join()"
     ],
     "language": "python",
     "metadata": {},
     "outputs": [
      {
       "output_type": "stream",
       "stream": "stdout",
       "text": [
        "Consuming 42\n",
        "Consuming foobar\n",
        "Consuming True\n",
        "Consuming [0, 1, 2, 3, 4]\n",
        "\n",
        "Finished consuming\n"
       ]
      }
     ],
     "prompt_number": 11
    },
    {
     "cell_type": "markdown",
     "metadata": {},
     "source": [
      "Two things to be aware of:\n",
      "\n",
      "1. if you `terminate` a process that is still accessing a queue, the queue may become corrupted\n",
      "2. you should make sure that any queue to which a given process has given data is clear before joining the process, or you will get a deadlock condition\n",
      "\n",
      "### `Pool` class\n",
      "\n",
      "We often have a task that we want to split up among several worker processes in parallel. The `Pool` class creates a number of processes and the methods for passing work to them. A `Pool` has the following key methods:\n",
      "\n",
      "* `apply`: Executes a passed function in a process and returns the result.\n",
      "* `apply_async`: Same as apply, but the result is returned asynchronously via a *callback*\n",
      "* `map`: A parallel version of `apply`, which splits an iterable of data into chunks and farms chunks out to processes.\n",
      "* `map_async`: Asynchronous `map`."
     ]
    },
    {
     "cell_type": "markdown",
     "metadata": {},
     "source": [
      "### Example: parallel bootstrap\n",
      "\n",
      "As an example, we will choose a statistical computing task that is [*embarassingly parallel*](http://en.wikipedia.org/wiki/Embarrassingly_parallel). This function generates statistics of bootstrapped samples from a dataset."
     ]
    },
    {
     "cell_type": "code",
     "collapsed": false,
     "input": [
      "def bootstrap(data, nsamples, f):\n",
      "    boot_samples = data[np.random.randint(len(data), size=(nsamples, len(data)))]\n",
      "    return [f(s) for s in boot_samples]"
     ],
     "language": "python",
     "metadata": {},
     "outputs": [],
     "prompt_number": 12
    },
    {
     "cell_type": "code",
     "collapsed": false,
     "input": [
      "pool = multiprocessing.Pool(processes=4)"
     ],
     "language": "python",
     "metadata": {},
     "outputs": [],
     "prompt_number": 13
    },
    {
     "cell_type": "code",
     "collapsed": false,
     "input": [
      "some_data = np.random.poisson(4, 25)"
     ],
     "language": "python",
     "metadata": {},
     "outputs": [],
     "prompt_number": 14
    },
    {
     "cell_type": "code",
     "collapsed": false,
     "input": [
      "result = pool.apply_async(bootstrap, (some_data, 1000, np.mean))"
     ],
     "language": "python",
     "metadata": {},
     "outputs": [],
     "prompt_number": 15
    },
    {
     "cell_type": "markdown",
     "metadata": {},
     "source": [
      "The result is an `ApplyResult` object:"
     ]
    },
    {
     "cell_type": "code",
     "collapsed": false,
     "input": [
      "result"
     ],
     "language": "python",
     "metadata": {},
     "outputs": [
      {
       "metadata": {},
       "output_type": "pyout",
       "prompt_number": 16,
       "text": [
        "<multiprocessing.pool.ApplyResult at 0x10d8dcc90>"
       ]
      }
     ],
     "prompt_number": 16
    },
    {
     "cell_type": "markdown",
     "metadata": {},
     "source": [
      "We may then want to take the result and calculate a confidence interval based on the quantiles."
     ]
    },
    {
     "cell_type": "code",
     "collapsed": false,
     "input": [
      "bootstrap_ci = lambda boot, alpha=0.05: (boot[np.floor((0.5*alpha)*len(boot))],\n",
      "            boot[np.floor((1.-0.5*alpha)*len(boot))])"
     ],
     "language": "python",
     "metadata": {},
     "outputs": [],
     "prompt_number": 17
    },
    {
     "cell_type": "code",
     "collapsed": false,
     "input": [
      "bootstrap_ci(np.sort(result.get()))"
     ],
     "language": "python",
     "metadata": {},
     "outputs": [
      {
       "metadata": {},
       "output_type": "pyout",
       "prompt_number": 18,
       "text": [
        "(3.2000000000000002, 4.4000000000000004)"
       ]
      }
     ],
     "prompt_number": 18
    },
    {
     "cell_type": "code",
     "collapsed": false,
     "input": [
      "# Clean up\n",
      "pool.close()\n",
      "pool.join()"
     ],
     "language": "python",
     "metadata": {},
     "outputs": [],
     "prompt_number": 19
    },
    {
     "cell_type": "markdown",
     "metadata": {},
     "source": [
      "But, since we used `Pool.apply`, this is not a parallel task. We need to use `map`."
     ]
    },
    {
     "cell_type": "code",
     "collapsed": false,
     "input": [
      "def mapped_bootstrap(n): \n",
      "    return bootstrap(some_data, n, np.mean)"
     ],
     "language": "python",
     "metadata": {},
     "outputs": [],
     "prompt_number": 20
    },
    {
     "cell_type": "code",
     "collapsed": false,
     "input": [
      "pool = multiprocessing.Pool(processes=4)"
     ],
     "language": "python",
     "metadata": {},
     "outputs": [],
     "prompt_number": 21
    },
    {
     "cell_type": "code",
     "collapsed": false,
     "input": [
      "map_result = pool.map_async(mapped_bootstrap, [250]*4)"
     ],
     "language": "python",
     "metadata": {},
     "outputs": [],
     "prompt_number": 22
    },
    {
     "cell_type": "code",
     "collapsed": false,
     "input": [
      "map_result"
     ],
     "language": "python",
     "metadata": {},
     "outputs": [
      {
       "metadata": {},
       "output_type": "pyout",
       "prompt_number": 23,
       "text": [
        "<multiprocessing.pool.MapResult at 0x10d8dcb10>"
       ]
      }
     ],
     "prompt_number": 23
    },
    {
     "cell_type": "code",
     "collapsed": false,
     "input": [
      "parallel_results = map_result.get()\n",
      "[len(p) for p in parallel_results]"
     ],
     "language": "python",
     "metadata": {},
     "outputs": [
      {
       "metadata": {},
       "output_type": "pyout",
       "prompt_number": 24,
       "text": [
        "[250, 250, 250, 250]"
       ]
      }
     ],
     "prompt_number": 24
    },
    {
     "cell_type": "code",
     "collapsed": false,
     "input": [
      "bootstrap_ci(np.sort(np.ravel(parallel_results)))"
     ],
     "language": "python",
     "metadata": {},
     "outputs": [
      {
       "metadata": {},
       "output_type": "pyout",
       "prompt_number": 25,
       "text": [
        "(3.2000000000000002, 4.4000000000000004)"
       ]
      }
     ],
     "prompt_number": 25
    },
    {
     "cell_type": "code",
     "collapsed": false,
     "input": [
      "pool.close()\n",
      "pool.join()"
     ],
     "language": "python",
     "metadata": {},
     "outputs": [],
     "prompt_number": 26
    },
    {
     "cell_type": "markdown",
     "metadata": {},
     "source": [
      "The multiprocessing package is very useful for highly parallel tasks that do not need to communicate with each other, other than when sending the initial data to the pool of processes and when and collecting the results. "
     ]
    },
    {
     "cell_type": "markdown",
     "metadata": {},
     "source": [
      "## IPython parallel\n",
      "\n",
      "The IPython architecture consists of four components, which reside in the `IPython.parallel` package:\n",
      "\n",
      "1. **Engine** The IPython engine is a Python instance that accepts Python commands over a network connection.  When multiple engines are started, parallel and distributed computing becomes possible. An important property of an IPython engine is that it blocks while user code is being executed. \n",
      "\n",
      "2. **Hub** The hub keeps track of engine connections, schedulers, clients, as well as persist all task requests and results in a database for later use.\n",
      "\n",
      "3. **Schedulers** All actions that can be performed on the engine go through a Scheduler. While the engines themselves block when user code is run, the schedulers hide that from the user to provide a fully asynchronous interface to a set of engines.\n",
      "\n",
      "4. **Client** The primary object for connecting to a cluster.\n",
      "\n",
      "![IPython architecture](images/ipython_architecture.png)\n",
      "(courtesy Min Ragan-Kelley)\n",
      "\n",
      "This architecture is implemented using the \u00d8MQ messaging library and the associated Python bindings in `pyzmq`.\n",
      "\n",
      "## Start your engines!\n",
      "\n",
      "In order to use IPython for parallel computing, you will need to start the IPython\n",
      "controller and two or more IPython engines. The simplest way of doing this is\n",
      "with the [clusters tab](/#tab2), or you can use the `ipcluster` command in a terminal:\n",
      "\n",
      "    $ ipcluster start --n=4\n",
      "\n",
      "This command will start 4 IPython engines on the current host, which is appropriate for many desktop multicore systems. You can also setup IPython clusters that span many nodes in a computing cluster, but this is beyond the scope of this lecture, but you can get more information from \n",
      "[the IPython.parallel docs](http://ipython.org/ipython-doc/dev/parallel/parallel_process.html)..\n",
      "\n",
      "To use the IPython cluster in our Python programs or notebooks, we start by creating an instance of `IPython.parallel.Client`:"
     ]
    },
    {
     "cell_type": "code",
     "collapsed": false,
     "input": [
      "from IPython.parallel import Client"
     ],
     "language": "python",
     "metadata": {},
     "outputs": [],
     "prompt_number": 27
    },
    {
     "cell_type": "code",
     "collapsed": false,
     "input": [
      "cli = Client()"
     ],
     "language": "python",
     "metadata": {},
     "outputs": [],
     "prompt_number": 28
    },
    {
     "cell_type": "markdown",
     "metadata": {},
     "source": [
      "This creates a client using the default profile; you can pass an optional `profile=\"my_profile\"` argument if you have a different one running.\n",
      "\n",
      "Using the `ids` attribute we can retreive a list of ids for the IPython engines in the cluster:"
     ]
    },
    {
     "cell_type": "code",
     "collapsed": false,
     "input": [
      "cli.ids"
     ],
     "language": "python",
     "metadata": {},
     "outputs": [
      {
       "metadata": {},
       "output_type": "pyout",
       "prompt_number": 29,
       "text": [
        "[0, 1, 2, 3]"
       ]
      }
     ],
     "prompt_number": 29
    },
    {
     "cell_type": "markdown",
     "metadata": {},
     "source": [
      "We can use a `DirectView` object for execution of tasks, which an be accessed simply by indexing the client:"
     ]
    },
    {
     "cell_type": "code",
     "collapsed": false,
     "input": [
      "dv0 = cli[0]\n",
      "dv0"
     ],
     "language": "python",
     "metadata": {},
     "outputs": [
      {
       "metadata": {},
       "output_type": "pyout",
       "prompt_number": 30,
       "text": [
        "<DirectView 0>"
       ]
      }
     ],
     "prompt_number": 30
    },
    {
     "cell_type": "markdown",
     "metadata": {},
     "source": [
      "The above shows just a single engine, but we want all of them:"
     ]
    },
    {
     "cell_type": "code",
     "collapsed": false,
     "input": [
      "dview = cli[:]\n",
      "dview"
     ],
     "language": "python",
     "metadata": {},
     "outputs": [
      {
       "metadata": {},
       "output_type": "pyout",
       "prompt_number": 31,
       "text": [
        "<DirectView [0, 1, 2, 3]>"
       ]
      }
     ],
     "prompt_number": 31
    },
    {
     "cell_type": "markdown",
     "metadata": {},
     "source": [
      "We can get a view on whatever combination of engines we want:"
     ]
    },
    {
     "cell_type": "code",
     "collapsed": false,
     "input": [
      "cli[::2]"
     ],
     "language": "python",
     "metadata": {},
     "outputs": [
      {
       "metadata": {},
       "output_type": "pyout",
       "prompt_number": 32,
       "text": [
        "<DirectView [0, 2]>"
       ]
      }
     ],
     "prompt_number": 32
    },
    {
     "cell_type": "code",
     "collapsed": false,
     "input": [
      "cli[1::2]"
     ],
     "language": "python",
     "metadata": {},
     "outputs": [
      {
       "metadata": {},
       "output_type": "pyout",
       "prompt_number": 33,
       "text": [
        "<DirectView [1, 3]>"
       ]
      }
     ],
     "prompt_number": 33
    },
    {
     "cell_type": "markdown",
     "metadata": {},
     "source": [
      "The `block` flag specifies whether to wait for the result, or return an `AsyncResult` object immediately:"
     ]
    },
    {
     "cell_type": "code",
     "collapsed": false,
     "input": [
      "dview.block = True"
     ],
     "language": "python",
     "metadata": {},
     "outputs": [],
     "prompt_number": 34
    },
    {
     "cell_type": "markdown",
     "metadata": {},
     "source": [
      "Finally, since we want to use IPython's parallel magic commands, we set the `DirectView` to be `active`:"
     ]
    },
    {
     "cell_type": "code",
     "collapsed": false,
     "input": [
      "dview.activate()"
     ],
     "language": "python",
     "metadata": {},
     "outputs": [],
     "prompt_number": 35
    },
    {
     "cell_type": "markdown",
     "metadata": {},
     "source": [
      "Each of these engines are ready to execute tasks. We can selectively run code on individual engines. For example, we can simply use `os.getpid` to return the process ID that the engine is running on. Here is the notebook process:"
     ]
    },
    {
     "cell_type": "code",
     "collapsed": false,
     "input": [
      "import os\n",
      "os.getpid()"
     ],
     "language": "python",
     "metadata": {},
     "outputs": [
      {
       "metadata": {},
       "output_type": "pyout",
       "prompt_number": 36,
       "text": [
        "36377"
       ]
      }
     ],
     "prompt_number": 36
    },
    {
     "cell_type": "markdown",
     "metadata": {},
     "source": [
      "Here is a single engine's process ID:"
     ]
    },
    {
     "cell_type": "code",
     "collapsed": false,
     "input": [
      "dv0.apply_sync(os.getpid)"
     ],
     "language": "python",
     "metadata": {},
     "outputs": [
      {
       "metadata": {},
       "output_type": "pyout",
       "prompt_number": 37,
       "text": [
        "36409"
       ]
      }
     ],
     "prompt_number": 37
    },
    {
     "cell_type": "markdown",
     "metadata": {},
     "source": [
      "And here are all the engines, run simultaneously:"
     ]
    },
    {
     "cell_type": "code",
     "collapsed": false,
     "input": [
      "dview.apply_sync(os.getpid)"
     ],
     "language": "python",
     "metadata": {},
     "outputs": [
      {
       "metadata": {},
       "output_type": "pyout",
       "prompt_number": 38,
       "text": [
        "[36409, 36407, 36411, 36410]"
       ]
      }
     ],
     "prompt_number": 38
    },
    {
     "cell_type": "markdown",
     "metadata": {},
     "source": [
      "Let's now consider a useful function that we might want to run in parallel. Here is a version of the approximate Bayesian computing (ABC) algorithm that we have seen in previous lectures."
     ]
    },
    {
     "cell_type": "code",
     "collapsed": false,
     "input": [
      "import numpy\n",
      "\n",
      "def abc(y, N, epsilon=[0.2, 0.8]):\n",
      "    \n",
      "    trace = []\n",
      "\n",
      "    while len(trace) < N:\n",
      "\n",
      "        # Simulate from priors\n",
      "        mu = numpy.random.normal(0, 10)\n",
      "        sigma = numpy.random.uniform(0, 20)\n",
      "\n",
      "        x = numpy.random.normal(mu, sigma, 50)\n",
      "\n",
      "        #if (np.linalg.norm(y - x) < epsilon):\n",
      "        if ((abs(x.mean() - y.mean()) < epsilon[0]) &\n",
      "            (abs(x.std() - y.std()) < epsilon[1])):\n",
      "            trace.append([mu, sigma])\n",
      "\n",
      "    return trace"
     ],
     "language": "python",
     "metadata": {},
     "outputs": [],
     "prompt_number": 39
    },
    {
     "cell_type": "code",
     "collapsed": false,
     "input": [
      "import numpy as np\n",
      "\n",
      "y = np.random.normal(4, 2, 50)"
     ],
     "language": "python",
     "metadata": {},
     "outputs": [],
     "prompt_number": 40
    },
    {
     "cell_type": "markdown",
     "metadata": {},
     "source": [
      "Let's try running this on one of the cluster engines:"
     ]
    },
    {
     "cell_type": "code",
     "collapsed": false,
     "input": [
      "dv0.block = True\n",
      "dv0.apply(abc, y, 10)"
     ],
     "language": "python",
     "metadata": {},
     "outputs": [
      {
       "ename": "RemoteError",
       "evalue": "NameError(global name 'numpy' is not defined)",
       "output_type": "pyerr",
       "traceback": [
        "\u001b[0;31m---------------------------------------------------------------------------\u001b[0m\u001b[0;31mNameError\u001b[0m                                 Traceback (most recent call last)\u001b[0;32m<string>\u001b[0m in \u001b[0;36m<module>\u001b[0;34m()\u001b[0m",
        "\u001b[0;32m<ipython-input-39-02c6cbe59268>\u001b[0m in \u001b[0;36mabc\u001b[0;34m(y, N, epsilon)\u001b[0m",
        "\u001b[0;31mNameError\u001b[0m: global name 'numpy' is not defined"
       ]
      }
     ],
     "prompt_number": 41
    },
    {
     "cell_type": "markdown",
     "metadata": {},
     "source": [
      "This fails with a `NameError` because NumPy has not been imported on the engine to which we sent the task. Each engine has its own namespace, so we need to import whatever modules we will need  prior to running our code:"
     ]
    },
    {
     "cell_type": "code",
     "collapsed": false,
     "input": [
      "cli[0].execute(\"import numpy\")"
     ],
     "language": "python",
     "metadata": {},
     "outputs": [
      {
       "metadata": {},
       "output_type": "pyout",
       "prompt_number": 45,
       "text": [
        "<AsyncResult: execute>"
       ]
      }
     ],
     "prompt_number": 45
    },
    {
     "cell_type": "code",
     "collapsed": false,
     "input": [
      "dv0.apply(abc, y, 10)"
     ],
     "language": "python",
     "metadata": {},
     "outputs": [
      {
       "metadata": {},
       "output_type": "pyout",
       "prompt_number": 46,
       "text": [
        "[[4.590235925766062, 1.4631925526066114],\n",
        " [4.477128296191394, 1.3951857147834956],\n",
        " [4.64581808156429, 1.5141434295602219],\n",
        " [4.800324447295926, 1.6724663589000421],\n",
        " [4.787978289320162, 1.5363459415458736],\n",
        " [4.040291377036772, 1.8384028664082774],\n",
        " [4.432276586964012, 2.119522910434748],\n",
        " [3.90633638309855, 0.9911421294912204],\n",
        " [4.565727991427209, 2.4270696101751787],\n",
        " [4.527518815648543, 1.8993065348249938]]"
       ]
      }
     ],
     "prompt_number": 46
    },
    {
     "cell_type": "markdown",
     "metadata": {},
     "source": [
      "A more efficient way is to simultaneously import modules into the local and the engine namespaces simultaneously, using a context manager:"
     ]
    },
    {
     "cell_type": "code",
     "collapsed": false,
     "input": [
      "with dview.sync_imports():\n",
      "    import numpy"
     ],
     "language": "python",
     "metadata": {},
     "outputs": [
      {
       "output_type": "stream",
       "stream": "stdout",
       "text": [
        "importing numpy on engine(s)\n"
       ]
      }
     ],
     "prompt_number": 47
    },
    {
     "cell_type": "code",
     "collapsed": false,
     "input": [
      "t = dview.apply(abc, y, 10)"
     ],
     "language": "python",
     "metadata": {},
     "outputs": [],
     "prompt_number": 48
    },
    {
     "cell_type": "markdown",
     "metadata": {},
     "source": [
      "Easier yet, you can use the parallel cell magic to import everywhere:"
     ]
    },
    {
     "cell_type": "code",
     "collapsed": false,
     "input": [
      "%%px\n",
      "import numpy"
     ],
     "language": "python",
     "metadata": {},
     "outputs": [],
     "prompt_number": 49
    },
    {
     "cell_type": "markdown",
     "metadata": {},
     "source": [
      "You can also use the `require` decorator for functions that you wish to use on engines."
     ]
    },
    {
     "cell_type": "code",
     "collapsed": false,
     "input": [
      "from IPython.parallel import require\n",
      "\n",
      "@require(\"numpy\")\n",
      "def abc(y, N, epsilon=[0.2, 0.8]):\n",
      "\n",
      "    trace = []\n",
      "\n",
      "    while len(trace) < N:\n",
      "\n",
      "        # Simulate from priors\n",
      "        mu = numpy.random.normal(0, 10)\n",
      "        sigma = numpy.random.uniform(0, 20)\n",
      "\n",
      "        x = numpy.random.normal(mu, sigma, 50)\n",
      "\n",
      "        #if (np.linalg.norm(y - x) < epsilon):\n",
      "        if ((abs(x.mean() - y.mean()) < epsilon[0]) &\n",
      "            (abs(x.std() - y.std()) < epsilon[1])):\n",
      "            trace.append([mu, sigma])\n",
      "\n",
      "    return trace"
     ],
     "language": "python",
     "metadata": {},
     "outputs": [],
     "prompt_number": 50
    },
    {
     "cell_type": "markdown",
     "metadata": {},
     "source": [
      "A simple way to run code on an engine is via the `execute` method:"
     ]
    },
    {
     "cell_type": "code",
     "collapsed": false,
     "input": [
      "dv0.execute('x=3')"
     ],
     "language": "python",
     "metadata": {},
     "outputs": [
      {
       "metadata": {},
       "output_type": "pyout",
       "prompt_number": 51,
       "text": [
        "<AsyncResult: finished>"
       ]
      }
     ],
     "prompt_number": 51
    },
    {
     "cell_type": "code",
     "collapsed": false,
     "input": [
      "dv0['x']"
     ],
     "language": "python",
     "metadata": {},
     "outputs": [
      {
       "metadata": {},
       "output_type": "pyout",
       "prompt_number": 52,
       "text": [
        "3"
       ]
      }
     ],
     "prompt_number": 52
    },
    {
     "cell_type": "markdown",
     "metadata": {},
     "source": [
      "### Data transfer\n",
      "\n",
      "We will often want to send data to our engines, or retrieve objects from them. `DirectView` has `push` and `pull` methods for achieving this.\n",
      "\n",
      "Recall that Python namespaces are just dictionaries. So, we can update an engine's namespace by pushing a dictionary:"
     ]
    },
    {
     "cell_type": "code",
     "collapsed": false,
     "input": [
      "dv0.push({'foo': -3, 'bar': np.arange(10)})"
     ],
     "language": "python",
     "metadata": {},
     "outputs": [],
     "prompt_number": 53
    },
    {
     "cell_type": "code",
     "collapsed": false,
     "input": [
      "dv0.pull(('x', 'bar'))"
     ],
     "language": "python",
     "metadata": {},
     "outputs": [
      {
       "metadata": {},
       "output_type": "pyout",
       "prompt_number": 54,
       "text": [
        "[3, array([0, 1, 2, 3, 4, 5, 6, 7, 8, 9])]"
       ]
      }
     ],
     "prompt_number": 54
    },
    {
     "cell_type": "markdown",
     "metadata": {},
     "source": [
      "Additionally, `DirectView` objects also have `scatter` and `gather` methods, to distribute data among engines. `scatter` accepts any container or Numpy `array` type, while `gather` assembles the respective return objects in the Client."
     ]
    },
    {
     "cell_type": "code",
     "collapsed": false,
     "input": [
      "# Some Gaussian data\n",
      "y"
     ],
     "language": "python",
     "metadata": {},
     "outputs": [
      {
       "metadata": {},
       "output_type": "pyout",
       "prompt_number": 55,
       "text": [
        "array([ 2.1785829 ,  6.20986266,  2.40786592,  4.36644356,  4.58987116,\n",
        "        7.41261167,  7.76891172,  6.21114522,  4.41257458,  5.32249081,\n",
        "        4.99184536,  1.77361058,  4.08926288,  0.84387259,  8.01722185,\n",
        "        3.97073609,  4.67400058,  3.99967373,  6.09638844,  5.15369881,\n",
        "        4.97295017,  1.64677217,  5.61724041,  7.80303294,  5.05162636,\n",
        "        3.73578806,  4.07719253,  2.06066135,  5.35176281,  2.56477313,\n",
        "        2.79967549,  5.5308951 ,  5.08229826,  6.37643314,  3.53831146,\n",
        "        3.7639562 ,  3.4030453 ,  6.03615427,  4.07152467,  4.45509495,\n",
        "        1.72391051,  4.7889124 ,  4.55664753,  5.55594672,  1.12584625,\n",
        "        4.37639019,  2.00248678,  5.60681699,  6.20341977,  4.16664681])"
       ]
      }
     ],
     "prompt_number": 55
    },
    {
     "cell_type": "code",
     "collapsed": false,
     "input": [
      "# Send to engines\n",
      "dview.scatter('y', y)\n",
      "dview['y']"
     ],
     "language": "python",
     "metadata": {},
     "outputs": [
      {
       "metadata": {},
       "output_type": "pyout",
       "prompt_number": 56,
       "text": [
        "[array([ 2.1785829 ,  6.20986266,  2.40786592,  4.36644356,  4.58987116,\n",
        "         7.41261167,  7.76891172,  6.21114522,  4.41257458,  5.32249081,\n",
        "         4.99184536,  1.77361058,  4.08926288]),\n",
        " array([ 0.84387259,  8.01722185,  3.97073609,  4.67400058,  3.99967373,\n",
        "         6.09638844,  5.15369881,  4.97295017,  1.64677217,  5.61724041,\n",
        "         7.80303294,  5.05162636,  3.73578806]),\n",
        " array([ 4.07719253,  2.06066135,  5.35176281,  2.56477313,  2.79967549,\n",
        "         5.5308951 ,  5.08229826,  6.37643314,  3.53831146,  3.7639562 ,\n",
        "         3.4030453 ,  6.03615427]),\n",
        " array([ 4.07152467,  4.45509495,  1.72391051,  4.7889124 ,  4.55664753,\n",
        "         5.55594672,  1.12584625,  4.37639019,  2.00248678,  5.60681699,\n",
        "         6.20341977,  4.16664681])]"
       ]
      }
     ],
     "prompt_number": 56
    },
    {
     "cell_type": "code",
     "collapsed": false,
     "input": [
      "# Remote execution of function\n",
      "dview.execute('sum_y = sum(y)')"
     ],
     "language": "python",
     "metadata": {},
     "outputs": [
      {
       "metadata": {},
       "output_type": "pyout",
       "prompt_number": 57,
       "text": [
        "<AsyncResult: finished>"
       ]
      }
     ],
     "prompt_number": 57
    },
    {
     "cell_type": "code",
     "collapsed": false,
     "input": [
      "# Aggregation on client\n",
      "sum(dview.gather('sum_y'))"
     ],
     "language": "python",
     "metadata": {},
     "outputs": [
      {
       "metadata": {},
       "output_type": "pyout",
       "prompt_number": 58,
       "text": [
        "222.53688382466248"
       ]
      }
     ],
     "prompt_number": 58
    },
    {
     "cell_type": "markdown",
     "metadata": {},
     "source": [
      "The `map` method essentially combines `scatter` and `gather` into a single call:"
     ]
    },
    {
     "cell_type": "code",
     "collapsed": false,
     "input": [
      "dview.map(lambda x: sum(x**2), np.split(y, 5))"
     ],
     "language": "python",
     "metadata": {},
     "outputs": [
      {
       "metadata": {},
       "output_type": "pyout",
       "prompt_number": 59,
       "text": [
        "[290.92003140960378,\n",
        " 227.11123257047061,\n",
        " 215.4470967688369,\n",
        " 216.04571267768844,\n",
        " 189.24716351190676]"
       ]
      }
     ],
     "prompt_number": 59
    },
    {
     "cell_type": "markdown",
     "metadata": {},
     "source": [
      "### Load balancing\n",
      "\n",
      "The `DirectView` objects we have used so far strictly allocate particular tasks to particular engines. This is often inefficient, when tasks take variable amounts of time, leaving some engines idle while some are overworked. We can use a **load balanced** view to distribute memory approximately equally among engines, to minimize idle time."
     ]
    },
    {
     "cell_type": "code",
     "collapsed": false,
     "input": [
      "lb_view = cli.load_balanced_view()\n",
      "lb_view"
     ],
     "language": "python",
     "metadata": {},
     "outputs": [
      {
       "metadata": {},
       "output_type": "pyout",
       "prompt_number": 60,
       "text": [
        "<LoadBalancedView None>"
       ]
      }
     ],
     "prompt_number": 60
    },
    {
     "cell_type": "markdown",
     "metadata": {},
     "source": [
      "A `LoadBalancedView`, though it works with all the engines (or specified subsets of engines), behaves as if it is working with a single engine.\n",
      "\n",
      "If you do not specify the engines when the `LoadBalancedView` is created, it will use all the engines that are available when it assigns tasks."
     ]
    },
    {
     "cell_type": "code",
     "collapsed": false,
     "input": [
      "for i in range(10):\n",
      "    pid = lb_view.apply_sync(os.getpid)\n",
      "    print('Task {0} ran on process {1}'.format(i, pid))"
     ],
     "language": "python",
     "metadata": {},
     "outputs": [
      {
       "output_type": "stream",
       "stream": "stdout",
       "text": [
        "Task 0 ran on process 36407\n",
        "Task 1 ran on process 36410\n",
        "Task 2 ran on process 36411\n",
        "Task 3 ran on process 36409\n",
        "Task 4 ran on process 36407\n",
        "Task 5 ran on process 36410\n",
        "Task 6 ran on process 36411\n",
        "Task 7 ran on process 36409\n",
        "Task 8 ran on process 36407\n",
        "Task 9 ran on process 36410\n"
       ]
      }
     ],
     "prompt_number": 61
    },
    {
     "cell_type": "code",
     "collapsed": false,
     "input": [
      "%%px\n",
      "\n",
      "def abc(y, N, epsilon=[0.2, 0.8]):\n",
      "\n",
      "    trace = []\n",
      "\n",
      "    while len(trace) < N:\n",
      "\n",
      "        # Simulate from priors\n",
      "        mu = numpy.random.normal(0, 10)\n",
      "        sigma = numpy.random.uniform(0, 20)\n",
      "\n",
      "        x = numpy.random.normal(mu, sigma, 50)\n",
      "\n",
      "        #if (np.linalg.norm(y - x) < epsilon):\n",
      "        if ((abs(x.mean() - y.mean()) < epsilon[0]) &\n",
      "            (abs(x.std() - y.std()) < epsilon[1])):\n",
      "            trace.append([mu, sigma])\n",
      "\n",
      "    return trace"
     ],
     "language": "python",
     "metadata": {},
     "outputs": [],
     "prompt_number": 62
    },
    {
     "cell_type": "code",
     "collapsed": false,
     "input": [
      "tasks = lb_view.map_async(lambda n: abc(y, n), [20]*5)"
     ],
     "language": "python",
     "metadata": {},
     "outputs": [],
     "prompt_number": 63
    },
    {
     "cell_type": "code",
     "collapsed": false,
     "input": [
      "tasks.msg_ids"
     ],
     "language": "python",
     "metadata": {},
     "outputs": [
      {
       "metadata": {},
       "output_type": "pyout",
       "prompt_number": 64,
       "text": [
        "['57821ab7-c50c-41a3-870b-87a5388f625e',\n",
        " '0d809f26-b4a0-46c7-a4b8-a1253605c963',\n",
        " '58d1806e-b516-402b-b27c-4bd0385843d2',\n",
        " 'ecd9778a-c3cc-40b4-b424-1ce8319a7e7a',\n",
        " '17f56766-d40c-459e-8c6a-3b5b0244eb42']"
       ]
      }
     ],
     "prompt_number": 64
    },
    {
     "cell_type": "code",
     "collapsed": false,
     "input": [
      "result = np.concatenate(tasks.get())\n",
      "result[:10]"
     ],
     "language": "python",
     "metadata": {},
     "outputs": [
      {
       "metadata": {},
       "output_type": "pyout",
       "prompt_number": 65,
       "text": [
        "array([[ 4.33910287,  1.00968001],\n",
        "       [ 4.01008657,  1.87599339],\n",
        "       [ 4.29249671,  0.75783991],\n",
        "       [ 3.92144599,  2.14760164],\n",
        "       [ 4.06969089,  1.86833156],\n",
        "       [ 4.68431874,  1.69446061],\n",
        "       [ 4.05921127,  0.86060883],\n",
        "       [ 4.37405908,  1.85325686],\n",
        "       [ 4.3214034 ,  1.62021611],\n",
        "       [ 4.55473179,  1.29067124]])"
       ]
      }
     ],
     "prompt_number": 65
    },
    {
     "cell_type": "markdown",
     "metadata": {},
     "source": [
      "Another way that you can dispatch tasks to engines is via the `parallel` decorator. This decorator is a method of the `DirectView` class that controls our engine pool. The decorated function is then disparched to the engines using the `map` method that the decorator adds to the class."
     ]
    },
    {
     "cell_type": "code",
     "collapsed": false,
     "input": [
      "@lb_view.parallel(block=True)\n",
      "def abc(y, N, epsilon=[0.2, 0.8]):\n",
      "\n",
      "    trace = []\n",
      "\n",
      "    while len(trace) < N:\n",
      "\n",
      "        # Simulate from priors\n",
      "        mu = numpy.random.normal(0, 10)\n",
      "        sigma = numpy.random.uniform(0, 20)\n",
      "\n",
      "        x = numpy.random.normal(mu, sigma, 50)\n",
      "\n",
      "        #if (np.linalg.norm(y - x) < epsilon):\n",
      "        if ((abs(x.mean() - y.mean()) < epsilon[0]) &\n",
      "            (abs(x.std() - y.std()) < epsilon[1])):\n",
      "            trace.append([mu, sigma])\n",
      "\n",
      "    return trace"
     ],
     "language": "python",
     "metadata": {},
     "outputs": [],
     "prompt_number": 66
    },
    {
     "cell_type": "code",
     "collapsed": false,
     "input": [
      "abc.map([y]*4, [25]*4)"
     ],
     "language": "python",
     "metadata": {},
     "outputs": [
      {
       "metadata": {},
       "output_type": "pyout",
       "prompt_number": 67,
       "text": [
        "[[[4.517565413414774, 0.9662777176949211],\n",
        "  [4.581349548138357, 1.6047650351964804],\n",
        "  [4.916372379839908, 2.349238797473696],\n",
        "  [4.074938188400474, 2.146632429913169],\n",
        "  [4.398684155778657, 1.5891430262401518],\n",
        "  [4.694880381132006, 2.118984561306634],\n",
        "  [4.591493737550208, 2.2385666391449144],\n",
        "  [4.016434154504921, 1.9911367060299567],\n",
        "  [4.8061044164945335, 1.4546925619278617],\n",
        "  [3.750751886799311, 1.5659985581597202],\n",
        "  [4.628890274973441, 1.4719562363899197],\n",
        "  [4.817723902529737, 2.208192155501849],\n",
        "  [4.6154781905380196, 1.1558536607421743],\n",
        "  [3.7728358195758176, 2.5744927804532014],\n",
        "  [3.881741410335211, 2.120665512730482],\n",
        "  [4.6791352696669595, 2.004598238675035],\n",
        "  [4.544124694092958, 1.6664031572481863],\n",
        "  [4.5877208378861365, 1.3471587204729119],\n",
        "  [4.582630972766127, 2.3230477800906746],\n",
        "  [4.269271834932147, 2.208618809668612],\n",
        "  [4.479702082790606, 3.195689580387673],\n",
        "  [4.748782888545755, 2.0432375381900547],\n",
        "  [4.059720828010918, 1.2439909668545313],\n",
        "  [4.5354755020910655, 1.2089626715056023],\n",
        "  [4.50594315572808, 1.8981624210794346]],\n",
        " [[4.488829073611723, 1.9156347829270115],\n",
        "  [4.6388384691073785, 2.152777282085858],\n",
        "  [4.166629095913624, 2.2738903021400714],\n",
        "  [4.557934006097378, 1.4343513464886892],\n",
        "  [4.505946709225052, 1.4578948034657002],\n",
        "  [4.228171191431803, 1.1227519213459547],\n",
        "  [4.362013035420787, 1.4358458096274829],\n",
        "  [4.575188818794922, 2.4144766315951527],\n",
        "  [3.717211548127218, 2.115980701567386],\n",
        "  [4.675937290973934, 2.609453130125563],\n",
        "  [4.9636841616527665, 2.0689714957200844],\n",
        "  [4.791599518844741, 2.0580732109364708],\n",
        "  [4.907602534993647, 2.2452242925627974],\n",
        "  [4.639741874419977, 1.4444111159433604],\n",
        "  [4.467838266339357, 1.2442831998778514],\n",
        "  [4.4972426084880865, 2.0372743039502805],\n",
        "  [4.575099520752362, 2.1117462679285937],\n",
        "  [4.153103557907772, 1.3889614283518403],\n",
        "  [4.689535686295779, 1.4757692541596112],\n",
        "  [4.642039124698082, 1.4179560395263047],\n",
        "  [4.158824119272687, 1.2264775647995219],\n",
        "  [4.584897780791162, 1.569774320160524],\n",
        "  [4.381415571918048, 2.7431820577084998],\n",
        "  [5.099633950502414, 2.2616082092418632],\n",
        "  [5.060077118329578, 2.0790845758526544]],\n",
        " [[4.662836447005664, 2.068536298689252],\n",
        "  [4.251532192397383, 1.277982080909268],\n",
        "  [4.283727158321559, 2.095633390850624],\n",
        "  [4.342944157860104, 1.5296999688747515],\n",
        "  [4.49364380388397, 1.627570828699041],\n",
        "  [4.519780631348422, 1.5929012211548343],\n",
        "  [4.331860392350356, 1.7113411077792273],\n",
        "  [3.98713294617239, 1.9649351760525158],\n",
        "  [4.761436506647908, 1.7395770670328892],\n",
        "  [3.67351292011191, 2.006580108872713],\n",
        "  [4.7291641752853995, 2.0310847204860782],\n",
        "  [4.41432460233213, 1.2621823468217874],\n",
        "  [4.45927095388947, 1.2168465168947606],\n",
        "  [4.566358620312901, 1.542670144149605],\n",
        "  [4.357578313858731, 1.4626694701587861],\n",
        "  [4.904415698445726, 2.283725426092107],\n",
        "  [4.873397837603934, 1.4714774706360045],\n",
        "  [4.678696420185064, 2.477225619531418],\n",
        "  [4.3193764715802905, 1.5226360507087278],\n",
        "  [4.552500464692171, 2.469254483872898],\n",
        "  [4.332731170083289, 0.9470889586309261],\n",
        "  [4.395524241056656, 1.4356516197578895],\n",
        "  [4.189155129114698, 1.2334571316142506],\n",
        "  [4.237447805359167, 2.1659164794506047],\n",
        "  [4.826165627936898, 2.283486526061156]],\n",
        " [[4.8650160803030476, 1.5197114202147088],\n",
        "  [4.381166742090777, 1.4652847317908813],\n",
        "  [5.113215359169363, 2.6810383300475915],\n",
        "  [4.288032192279657, 1.1145208376601534],\n",
        "  [4.132853309088255, 1.0256130154723708],\n",
        "  [4.5983230193199525, 2.547898357076923],\n",
        "  [4.9450759266836855, 2.4132901761100856],\n",
        "  [4.113972871319014, 2.004846457534044],\n",
        "  [4.804955365164768, 1.9116279283451454],\n",
        "  [4.597820113073481, 1.335697532234963],\n",
        "  [4.741144301768137, 1.7557678021415102],\n",
        "  [4.324687621369653, 2.0509818497513854],\n",
        "  [4.21663353409953, 2.158615520365761],\n",
        "  [4.521509345166959, 2.3856948933401134],\n",
        "  [4.610517475335454, 1.0151706993455933],\n",
        "  [4.226958054306397, 0.9954841729382724],\n",
        "  [4.4013172868273385, 1.788397133625983],\n",
        "  [3.9545396197855656, 2.1204331887006256],\n",
        "  [3.7866103910053606, 2.1948886014767033],\n",
        "  [4.763254193443972, 2.432138111108615],\n",
        "  [4.399516055706982, 2.7176957432917637],\n",
        "  [4.318041043776069, 1.7615998245070275],\n",
        "  [4.13700930067751, 2.327434991740227],\n",
        "  [4.472373654895595, 0.9009950144291601],\n",
        "  [4.211262718618958, 0.9415415855064757]]]"
       ]
      }
     ],
     "prompt_number": 67
    },
    {
     "cell_type": "markdown",
     "metadata": {},
     "source": [
      "### Parallel magics\n",
      "\n",
      "The `%px` cell magic is a \"parallel execution\" statement, which will run the code in that cell on all the engines."
     ]
    },
    {
     "cell_type": "code",
     "collapsed": false,
     "input": [
      "%%px \n",
      "import os\n",
      "print(os.getpid())"
     ],
     "language": "python",
     "metadata": {},
     "outputs": [
      {
       "output_type": "stream",
       "stream": "stdout",
       "text": [
        "[stdout:0] 36409\n",
        "[stdout:1] 36407\n",
        "[stdout:2] 36411\n",
        "[stdout:3] 36410\n"
       ]
      }
     ],
     "prompt_number": 68
    },
    {
     "cell_type": "code",
     "collapsed": false,
     "input": [
      "%px b = numpy.random.random()"
     ],
     "language": "python",
     "metadata": {},
     "outputs": [],
     "prompt_number": 69
    },
    {
     "cell_type": "code",
     "collapsed": false,
     "input": [
      "%px b"
     ],
     "language": "python",
     "metadata": {},
     "outputs": [
      {
       "metadata": {},
       "output_type": "display_data",
       "text": [
        "\u001b[0;31mOut[0:5]: \u001b[0m0.006018197579088391"
       ]
      },
      {
       "metadata": {},
       "output_type": "display_data",
       "text": [
        "\u001b[0;31mOut[1:5]: \u001b[0m0.5458145242170485"
       ]
      },
      {
       "metadata": {},
       "output_type": "display_data",
       "text": [
        "\u001b[0;31mOut[2:5]: \u001b[0m0.06467960542824935"
       ]
      },
      {
       "metadata": {},
       "output_type": "display_data",
       "text": [
        "\u001b[0;31mOut[3:5]: \u001b[0m0.04131017953756877"
       ]
      }
     ],
     "prompt_number": 70
    },
    {
     "cell_type": "markdown",
     "metadata": {},
     "source": [
      "`%pxresult` displays the output of the last request:"
     ]
    },
    {
     "cell_type": "code",
     "collapsed": false,
     "input": [
      "%pxresult"
     ],
     "language": "python",
     "metadata": {},
     "outputs": [
      {
       "metadata": {},
       "output_type": "display_data",
       "text": [
        "\u001b[0;31mOut[0:5]: \u001b[0m0.006018197579088391"
       ]
      },
      {
       "metadata": {},
       "output_type": "display_data",
       "text": [
        "\u001b[0;31mOut[1:5]: \u001b[0m0.5458145242170485"
       ]
      },
      {
       "metadata": {},
       "output_type": "display_data",
       "text": [
        "\u001b[0;31mOut[2:5]: \u001b[0m0.06467960542824935"
       ]
      },
      {
       "metadata": {},
       "output_type": "display_data",
       "text": [
        "\u001b[0;31mOut[3:5]: \u001b[0m0.04131017953756877"
       ]
      }
     ],
     "prompt_number": 71
    },
    {
     "cell_type": "markdown",
     "metadata": {},
     "source": [
      "The `%pxconfig` magic allows you to configure blocking for the parallel magics."
     ]
    },
    {
     "cell_type": "code",
     "collapsed": false,
     "input": [
      "# Switch to asynchronous\n",
      "%pxconfig --block"
     ],
     "language": "python",
     "metadata": {},
     "outputs": [],
     "prompt_number": 72
    },
    {
     "cell_type": "markdown",
     "metadata": {},
     "source": [
      "Remember that each engine is just another IPython, so anyting you can do in an IPython session you can also do on an engine."
     ]
    },
    {
     "cell_type": "code",
     "collapsed": false,
     "input": [
      "%px %pylab inline"
     ],
     "language": "python",
     "metadata": {},
     "outputs": [
      {
       "output_type": "stream",
       "stream": "stdout",
       "text": [
        "[stdout:0] Populating the interactive namespace from numpy and matplotlib\n",
        "[stdout:1] Populating the interactive namespace from numpy and matplotlib\n",
        "[stdout:2] Populating the interactive namespace from numpy and matplotlib\n",
        "[stdout:3] Populating the interactive namespace from numpy and matplotlib\n"
       ]
      },
      {
       "output_type": "stream",
       "stream": "stderr",
       "text": [
        "[stderr:0] \n",
        "WARNING: pylab import has clobbered these variables: ['bar']\n",
        "`%matplotlib` prevents importing * from pylab and numpy\n"
       ]
      }
     ],
     "prompt_number": 73
    },
    {
     "cell_type": "code",
     "collapsed": false,
     "input": [
      "%px samples = abc(y, 100)"
     ],
     "language": "python",
     "metadata": {},
     "outputs": [],
     "prompt_number": 74
    },
    {
     "cell_type": "code",
     "collapsed": false,
     "input": [
      "%%px \n",
      "import os\n",
      "tsamples = numpy.transpose(samples)\n",
      "plt.hist(tsamples[0])\n",
      "plt.hist(tsamples[1])\n",
      "_ = title('PID %i' % os.getpid())"
     ],
     "language": "python",
     "metadata": {},
     "outputs": [
      {
       "metadata": {},
       "output_type": "display_data",
       "text": [
        "[output:0]"
       ]
      },
      {
       "metadata": {
        "engine": 0
       },
       "output_type": "display_data",
       "png": "[encoded data removed]",
       "text": [
        "<matplotlib.figure.Figure at 0x10814a8d0>"
       ]
      },
      {
       "metadata": {},
       "output_type": "display_data",
       "text": [
        "[output:1]"
       ]
      },
      {
       "metadata": {
        "engine": 1
       },
       "output_type": "display_data",
       "png": "[encoded data removed]",
       "text": [
        "<matplotlib.figure.Figure at 0x10bfb0350>"
       ]
      },
      {
       "metadata": {},
       "output_type": "display_data",
       "text": [
        "[output:2]"
       ]
      },
      {
       "metadata": {
        "engine": 2
       },
       "output_type": "display_data",
       "png": "[encoded data removed]",
       "text": [
        "<matplotlib.figure.Figure at 0x10d441350>"
       ]
      },
      {
       "metadata": {},
       "output_type": "display_data",
       "text": [
        "[output:3]"
       ]
      },
      {
       "metadata": {
        "engine": 3
       },
       "output_type": "display_data",
       "png": "[encoded data removed]",
       "text": [
        "<matplotlib.figure.Figure at 0x11216e350>"
       ]
      }
     ],
     "prompt_number": 75
    },
    {
     "cell_type": "markdown",
     "metadata": {},
     "source": [
      "For profiling, we can also use the `%timeit` magic to compare performance on the engines:"
     ]
    },
    {
     "cell_type": "code",
     "collapsed": false,
     "input": [
      "%%px\n",
      "%%timeit\n",
      "s = abc(y, 10)"
     ],
     "language": "python",
     "metadata": {},
     "outputs": [
      {
       "output_type": "stream",
       "stream": "stdout",
       "text": [
        "[stdout:0] 1 loops, best of 3: 664 ms per loop\n",
        "[stdout:1] 1 loops, best of 3: 632 ms per loop\n",
        "[stdout:2] 1 loops, best of 3: 1.43 s per loop\n",
        "[stdout:3] 1 loops, best of 3: 774 ms per loop\n"
       ]
      }
     ],
     "prompt_number": 76
    },
    {
     "cell_type": "markdown",
     "metadata": {},
     "source": [
      "## Cython Parallel\n",
      "\n",
      "In order to use Cython in parallel on IPython, we need to load and execute `cythonmagic` on all engines."
     ]
    },
    {
     "cell_type": "code",
     "collapsed": false,
     "input": [
      "%px %load_ext cythonmagic"
     ],
     "language": "python",
     "metadata": {},
     "outputs": [],
     "prompt_number": 77
    },
    {
     "cell_type": "markdown",
     "metadata": {},
     "source": [
      "As an example, let's use the Cythonized Gibbs sampler from the last lecture."
     ]
    },
    {
     "cell_type": "code",
     "collapsed": false,
     "input": [
      "%%px\n",
      "%%cython\n",
      "\n",
      "from numpy import zeros, random\n",
      "from numpy cimport *\n",
      "from libc.math cimport sqrt\n",
      "gamma = random.gamma\n",
      "normal = random.normal\n",
      "\n",
      "def gibbs(int N=20000, int thin=200):\n",
      "    cdef: \n",
      "        ndarray[float64_t, ndim=2] mat = zeros((N,2))\n",
      "        float64_t x,y = 0\n",
      "        int i,j\n",
      "    for i in range(N):\n",
      "        for j in range(thin):\n",
      "            x = gamma(3, y**2 + 4)\n",
      "            y = normal(1./(x+1), 1./sqrt(2*(x+1)))\n",
      "        mat[i] = x,y\n",
      "\n",
      "    return mat"
     ],
     "language": "python",
     "metadata": {},
     "outputs": [],
     "prompt_number": 78
    },
    {
     "cell_type": "markdown",
     "metadata": {},
     "source": [
      "Divide the array by the number of nodes.  In this case they divide evenly, a more general partitioning of sizes is easy to do as well."
     ]
    },
    {
     "cell_type": "code",
     "collapsed": false,
     "input": [
      "cli.ids"
     ],
     "language": "python",
     "metadata": {},
     "outputs": [
      {
       "metadata": {},
       "output_type": "pyout",
       "prompt_number": 79,
       "text": [
        "[0, 1, 2, 3]"
       ]
      }
     ],
     "prompt_number": 79
    },
    {
     "cell_type": "code",
     "collapsed": false,
     "input": [
      "N = 100000\n",
      "thin = 10\n",
      "n = N/len(cli.ids)\n",
      "dv = cli[:]\n",
      "dv.push(dict(n=n, thin=thin))\n",
      "# Let's just confirm visually we got what we expect\n",
      "dv['n']"
     ],
     "language": "python",
     "metadata": {},
     "outputs": [
      {
       "metadata": {},
       "output_type": "pyout",
       "prompt_number": 80,
       "text": [
        "[25000, 25000, 25000, 25000]"
       ]
      }
     ],
     "prompt_number": 80
    },
    {
     "cell_type": "markdown",
     "metadata": {},
     "source": [
      "We can time the execution of the gibbs sampler on the remote nodes"
     ]
    },
    {
     "cell_type": "code",
     "collapsed": false,
     "input": [
      "%pxconfig --noblock"
     ],
     "language": "python",
     "metadata": {},
     "outputs": [],
     "prompt_number": 81
    },
    {
     "cell_type": "code",
     "collapsed": false,
     "input": [
      "%timeit dv.execute('gibbs(n, thin)')"
     ],
     "language": "python",
     "metadata": {},
     "outputs": [
      {
       "output_type": "stream",
       "stream": "stdout",
       "text": [
        "100 loops, best of 3: 3.11 ms per loop\n"
       ]
      }
     ],
     "prompt_number": 82
    },
    {
     "cell_type": "markdown",
     "metadata": {},
     "source": [
      "But a more realistic (and costly) benchmark must also include the cost of bringing the results back from the cluster engines to our local namespace.  For that, we assign the call to the variable `a` on each node and then use the view's `gather` method to pull them back in:"
     ]
    },
    {
     "cell_type": "code",
     "collapsed": false,
     "input": [
      "%%timeit\n",
      "dv.execute('a = gibbs(n, thin)')\n",
      "a = dv.gather('a')"
     ],
     "language": "python",
     "metadata": {},
     "outputs": [
      {
       "output_type": "stream",
       "stream": "stdout",
       "text": [
        "100 loops, best of 3: 9.15 ms per loop\n"
       ]
      }
     ],
     "prompt_number": 83
    },
    {
     "cell_type": "markdown",
     "metadata": {},
     "source": [
      "Let's compare this to the same number of samples executed on a single process:"
     ]
    },
    {
     "cell_type": "code",
     "collapsed": false,
     "input": [
      "%load_ext cythonmagic"
     ],
     "language": "python",
     "metadata": {},
     "outputs": [],
     "prompt_number": 84
    },
    {
     "cell_type": "code",
     "collapsed": false,
     "input": [
      "%%cython\n",
      "\n",
      "from libc.math cimport sqrt\n",
      "from numpy import zeros, random\n",
      "from numpy cimport *\n",
      "gamma = random.gamma\n",
      "normal = random.normal\n",
      "\n",
      "def gibbs(int N=20000, int thin=200):\n",
      "    cdef: \n",
      "        ndarray[float64_t, ndim=2] mat = zeros((N,2))\n",
      "        float64_t x,y = 0\n",
      "        int i,j\n",
      "    for i in range(N):\n",
      "        for j in range(thin):\n",
      "            x = gamma(3, y**2 + 4)\n",
      "            y = normal(1./(x+1), 1./sqrt(2*(x+1)))\n",
      "        mat[i] = x,y\n",
      "\n",
      "    return mat"
     ],
     "language": "python",
     "metadata": {},
     "outputs": [],
     "prompt_number": 85
    },
    {
     "cell_type": "code",
     "collapsed": false,
     "input": [
      "%%timeit \n",
      "a = gibbs(N, thin)"
     ],
     "language": "python",
     "metadata": {},
     "outputs": [
      {
       "output_type": "stream",
       "stream": "stdout",
       "text": [
        "1 loops, best of 3: 1.04 s per loop\n"
       ]
      }
     ],
     "prompt_number": 86
    },
    {
     "cell_type": "markdown",
     "metadata": {},
     "source": [
      "## Exercise\n",
      "\n",
      "Run parallel chains of the `disaster_model` example from PyMC and return the resulting traces to your client, for plotting and summarization."
     ]
    },
    {
     "cell_type": "code",
     "collapsed": false,
     "input": [
      "# Write your answer here"
     ],
     "language": "python",
     "metadata": {},
     "outputs": [],
     "prompt_number": 87
    },
    {
     "cell_type": "markdown",
     "metadata": {},
     "source": [
      "## References\n",
      "\n",
      "[Scientific Python Lectures](http://github.com/jrjohansson/scientific-python-lectures) by Robert Johansson\n",
      "\n",
      "[Using IPython for Parallel Computing](http://ipython.org/ipython-doc/dev/parallel/)"
     ]
    },
    {
     "cell_type": "markdown",
     "metadata": {},
     "source": [
      "---"
     ]
    },
    {
     "cell_type": "code",
     "collapsed": false,
     "input": [
      "from IPython.core.display import HTML\n",
      "def css_styling():\n",
      "    styles = open(\"styles/custom.css\", \"r\").read()\n",
      "    \n",
      "    return HTML(styles)\n",
      "css_styling()"
     ],
     "language": "python",
     "metadata": {},
     "outputs": [
      {
       "html": [
        "<style>\n",
        "    @font-face {\n",
        "        font-family: \"Computer Modern\";\n",
        "        src: url('http://mirrors.ctan.org/fonts/cm-unicode/fonts/otf/cmunss.otf');\n",
        "    }\n",
        "    div.cell{\n",
        "        width: 90%;\n",
        "/*        margin-left:auto;*/\n",
        "/*        margin-right:auto;*/\n",
        "    }\n",
        "    ul {\n",
        "        line-height: 145%;\n",
        "        font-size: 90%;\n",
        "    }\n",
        "    li {\n",
        "        margin-bottom: 1em;\n",
        "    }\n",
        "    h1 {\n",
        "        font-family: Helvetica, serif;\n",
        "    }\n",
        "    h4{\n",
        "        margin-top: 12px;\n",
        "        margin-bottom: 3px;\n",
        "       }\n",
        "    div.text_cell_render{\n",
        "        font-family: Computer Modern, \"Helvetica Neue\", Arial, Helvetica, Geneva, sans-serif;\n",
        "        line-height: 145%;\n",
        "        font-size: 130%;\n",
        "        width: 90%;\n",
        "        margin-left:auto;\n",
        "        margin-right:auto;\n",
        "    }\n",
        "    .CodeMirror{\n",
        "            font-family: \"Source Code Pro\", source-code-pro,Consolas, monospace;\n",
        "    }\n",
        "/*    .prompt{\n",
        "        display: None;\n",
        "    }*/\n",
        "    .text_cell_render h5 {\n",
        "        font-weight: 300;\n",
        "        font-size: 16pt;\n",
        "        color: #4057A1;\n",
        "        font-style: italic;\n",
        "        margin-bottom: 0.5em;\n",
        "        margin-top: 0.5em;\n",
        "        display: block;\n",
        "    }\n",
        "\n",
        "    .warning{\n",
        "        color: rgb( 240, 20, 20 )\n",
        "        }\n",
        "</style>\n",
        "<script>\n",
        "    MathJax.Hub.Config({\n",
        "                        TeX: {\n",
        "                           extensions: [\"AMSmath.js\"]\n",
        "                           },\n",
        "                tex2jax: {\n",
        "                    inlineMath: [ ['$','$'], [\"\\\\(\",\"\\\\)\"] ],\n",
        "                    displayMath: [ ['$$','$$'], [\"\\\\[\",\"\\\\]\"] ]\n",
        "                },\n",
        "                displayAlign: 'center', // Change this to 'center' to center equations.\n",
        "                \"HTML-CSS\": {\n",
        "                    styles: {'.MathJax_Display': {\"margin\": 4}}\n",
        "                }\n",
        "        });\n",
        "</script>"
       ],
       "metadata": {},
       "output_type": "pyout",
       "prompt_number": 88,
       "text": [
        "<IPython.core.display.HTML object>"
       ]
      }
     ],
     "prompt_number": 88
    }
   ],
   "metadata": {}
  }
 ]
}