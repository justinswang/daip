{
 "metadata": {
  "name": "",
  "signature": "sha256:f5ea0111d7623e6caee7328a6113270e324c1608df71eb84a886ef0302ef7197"
 },
 "nbformat": 3,
 "nbformat_minor": 0,
 "worksheets": [
  {
   "cells": [
    {
     "cell_type": "markdown",
     "metadata": {},
     "source": [
      "## Unsupvervised Learning\n",
      "\n",
      "Clustering is a class of unsupervised learning methods that associates observations according to some specified measure of similarity (e.g. Euclidean distance)."
     ]
    },
    {
     "cell_type": "markdown",
     "metadata": {},
     "source": [
      "## K-means Algorithm\n",
      "\n",
      "The K-means clustering algorithm associates each point $x_i$ in a set of input points $\\{x_1, x_2, \\ldots, x_m\\}$ to $K$ clusters. Each cluster is specified by a **centroid** that is the average location of all the points in the cluster. The algorithm proceeds iteratively from arbitrary centroid locations, updating the membership of each point according to minimum distance, then updating the centroid location based on the new cluster membership. \n",
      "\n",
      "In this sense, it is similar to the expectation maximization (EM) algorithm. Recall that in EM we iteratively assigned labels to observations, according to which mixture component they were most likely to have been derived from. K-means is simpler, in that we just use the minimum distance to assign membership.\n",
      "\n",
      "The algorithm will have converged when the assignment of points to centroids does not change with each iteration."
     ]
    },
    {
     "cell_type": "markdown",
     "metadata": {},
     "source": [
      "### Algorithm\n",
      "\n",
      "1. Initialize cluster centroids:\n",
      "\n",
      "    $$\\mu^{(0)}_1, \\ldots, \\mu^{(0)}_k \\in \\mathbb{R}^n$$\n",
      "\n",
      "2. Iterate until converged:\n",
      "\n",
      "    a. Set $c_i = \\text{argmin}_j || x_i - \\mu_j^{(s)} ||$\n",
      "    \n",
      "    b. Update centroids:\n",
      "    \n",
      "    $$\\mu_j^{(s+1)} = \\frac{\\sum_{i=1}^m I[c_i = j] x_i}{\\sum_{i=1}^m I[c_i = j]}$$"
     ]
    },
    {
     "cell_type": "markdown",
     "metadata": {},
     "source": [
      "The K-means algorithm is simply a Gaussian mixture model with two restrictions: \n",
      "\n",
      "1. the covariance matrix is spherical: \n",
      "\n",
      "    $$\\Sigma_k = \\sigma I_D$$\n",
      "\n",
      "2. the mixture weights are fixed:\n",
      "\n",
      "    $$\\pi_k = \\frac{1}{K}$$\n",
      "\n",
      "Hence, we are only interested in locating the appropriate centroid of the clusters. This serves to speed computation."
     ]
    },
    {
     "cell_type": "markdown",
     "metadata": {},
     "source": [
      "We can define the distortion function:\n",
      "\n",
      "$$J(c,\\mu) = \\sum_{i]1}^m ||x_i - \\mu_{c_i}||$$\n",
      "\n",
      "which gets smaller at every iteration. So, k-means is coordinate ascent on $J(c,\\mu)$"
     ]
    },
    {
     "cell_type": "markdown",
     "metadata": {},
     "source": [
      "### Choosing $k$\n",
      "\n",
      "To check whether a chosen $k$ is reasonable, one approach is to compare the distances between the centroids to the mean distance bewween each data point and their assigned centroid. A good fit involves relatively large inter-centroid distances. \n",
      "\n",
      "The appropriate value for k (the number of clusters) may depend on the goals of the analysis, or it may be chosen algorithmically, using an optimization procedure."
     ]
    },
    {
     "cell_type": "markdown",
     "metadata": {},
     "source": [
      "## Example: clustering random points"
     ]
    },
    {
     "cell_type": "code",
     "collapsed": false,
     "input": [
      "%matplotlib inline\n",
      "import numpy as np\n",
      "import matplotlib.pyplot as plt\n",
      "\n",
      "x, y = np.random.uniform(0, 10, 50).reshape(2, 25)\n",
      "plt.scatter(x, y)"
     ],
     "language": "python",
     "metadata": {},
     "outputs": [
      {
       "metadata": {},
       "output_type": "pyout",
       "prompt_number": 1,
       "text": [
        "<matplotlib.collections.PathCollection at 0x10e05a710>"
       ]
      },
      {
       "metadata": {},
       "output_type": "display_data",
       "png": "[encoded data removed]",
       "text": [
        "<matplotlib.figure.Figure at 0x10c82bef0>"
       ]
      }
     ],
     "prompt_number": 1
    },
    {
     "cell_type": "markdown",
     "metadata": {},
     "source": [
      "Let's start with $k=4$, arbitrarily assigned:"
     ]
    },
    {
     "cell_type": "code",
     "collapsed": false,
     "input": [
      "centroids = (3, 3), (3, 7), (7, 3), (7, 7)"
     ],
     "language": "python",
     "metadata": {},
     "outputs": [],
     "prompt_number": 2
    },
    {
     "cell_type": "code",
     "collapsed": false,
     "input": [
      "np.transpose(centroids)"
     ],
     "language": "python",
     "metadata": {},
     "outputs": [
      {
       "metadata": {},
       "output_type": "pyout",
       "prompt_number": 3,
       "text": [
        "array([[3, 3, 7, 7],\n",
        "       [3, 7, 3, 7]])"
       ]
      }
     ],
     "prompt_number": 3
    },
    {
     "cell_type": "code",
     "collapsed": false,
     "input": [
      "plt.scatter(x, y)\n",
      "plt.scatter(*np.transpose(centroids), c='r', marker='+', s=100)"
     ],
     "language": "python",
     "metadata": {},
     "outputs": [
      {
       "metadata": {},
       "output_type": "pyout",
       "prompt_number": 4,
       "text": [
        "<matplotlib.collections.PathCollection at 0x10e028a58>"
       ]
      },
      {
       "metadata": {},
       "output_type": "display_data",
       "png": "[encoded data removed]",
       "text": [
        "<matplotlib.figure.Figure at 0x10e028b38>"
       ]
      }
     ],
     "prompt_number": 4
    },
    {
     "cell_type": "markdown",
     "metadata": {},
     "source": [
      "We can use the function `cdist` from SciPy to calculate the distances from each point to each centroid."
     ]
    },
    {
     "cell_type": "code",
     "collapsed": false,
     "input": [
      "from scipy.spatial.distance import cdist\n",
      "\n",
      "distances = cdist(centroids, list(zip(x,y)))\n",
      "distances.shape"
     ],
     "language": "python",
     "metadata": {},
     "outputs": [
      {
       "metadata": {},
       "output_type": "pyout",
       "prompt_number": 5,
       "text": [
        "(4, 25)"
       ]
      }
     ],
     "prompt_number": 5
    },
    {
     "cell_type": "markdown",
     "metadata": {},
     "source": [
      "We can make the initial assignment to centroids by picking the minimum distance."
     ]
    },
    {
     "cell_type": "code",
     "collapsed": false,
     "input": [
      "labels = distances.argmin(axis=0)\n",
      "labels"
     ],
     "language": "python",
     "metadata": {},
     "outputs": [
      {
       "metadata": {},
       "output_type": "pyout",
       "prompt_number": 6,
       "text": [
        "array([1, 2, 0, 3, 1, 1, 2, 0, 1, 3, 2, 0, 1, 0, 2, 0, 0, 0, 1, 0, 2, 0, 3,\n",
        "       3, 0])"
       ]
      }
     ],
     "prompt_number": 6
    },
    {
     "cell_type": "code",
     "collapsed": false,
     "input": [
      "plt.scatter(x, y, c=labels)\n",
      "plt.scatter(*np.transpose(centroids), c='r', marker='+', s=100)"
     ],
     "language": "python",
     "metadata": {},
     "outputs": [
      {
       "metadata": {},
       "output_type": "pyout",
       "prompt_number": 7,
       "text": [
        "<matplotlib.collections.PathCollection at 0x10ec540f0>"
       ]
      },
      {
       "metadata": {},
       "output_type": "display_data",
       "png": "[encoded data removed]",
       "text": [
        "<matplotlib.figure.Figure at 0x10e0c8240>"
       ]
      }
     ],
     "prompt_number": 7
    },
    {
     "cell_type": "markdown",
     "metadata": {},
     "source": [
      "Now we can re-assign the centroid locations based on the means of the current members' locations."
     ]
    },
    {
     "cell_type": "code",
     "collapsed": false,
     "input": [
      "new_centroids = [(x[labels==i].mean(), y[labels==i].mean())\n",
      "                 for i in range(len(centroids))]"
     ],
     "language": "python",
     "metadata": {},
     "outputs": [],
     "prompt_number": 8
    },
    {
     "cell_type": "code",
     "collapsed": false,
     "input": [
      "plt.scatter(x, y, c=labels)\n",
      "plt.scatter(*np.transpose(new_centroids), c='r', marker='+', s=100)"
     ],
     "language": "python",
     "metadata": {},
     "outputs": [
      {
       "metadata": {},
       "output_type": "pyout",
       "prompt_number": 9,
       "text": [
        "<matplotlib.collections.PathCollection at 0x10ed499b0>"
       ]
      },
      {
       "metadata": {},
       "output_type": "display_data",
       "png": "[encoded data removed]",
       "text": [
        "<matplotlib.figure.Figure at 0x10ec80ac8>"
       ]
      }
     ],
     "prompt_number": 9
    },
    {
     "cell_type": "markdown",
     "metadata": {},
     "source": [
      "So, we simply iterate these steps until convergence."
     ]
    },
    {
     "cell_type": "code",
     "collapsed": false,
     "input": [
      "centroids = new_centroids\n",
      "iterations = 20\n",
      "\n",
      "for _ in range(iterations):\n",
      "    distances = cdist(centroids, list(zip(x,y)))\n",
      "    labels = distances.argmin(axis=0)\n",
      "    centroids = [(x[labels==i].mean(), y[labels==i].mean())\n",
      "                 for i in range(len(centroids))]"
     ],
     "language": "python",
     "metadata": {},
     "outputs": [],
     "prompt_number": 10
    },
    {
     "cell_type": "code",
     "collapsed": false,
     "input": [
      "plt.scatter(x, y, c=labels)\n",
      "plt.scatter(*np.transpose(centroids), c='r', marker='+', s=100)"
     ],
     "language": "python",
     "metadata": {},
     "outputs": [
      {
       "metadata": {},
       "output_type": "pyout",
       "prompt_number": 11,
       "text": [
        "<matplotlib.collections.PathCollection at 0x10ee087b8>"
       ]
      },
      {
       "metadata": {},
       "output_type": "display_data",
       "png": "[encoded data removed]",
       "text": [
        "<matplotlib.figure.Figure at 0x10ecb6710>"
       ]
      }
     ],
     "prompt_number": 11
    },
    {
     "cell_type": "markdown",
     "metadata": {},
     "source": [
      "## k-means using `scikit-learn`\n",
      "\n",
      "The `scikit-learn` package includes a `KMeans` class for flexibly fitting K-means models. It includes additional features, such as initialization options and the ability to set the convergence tolerance."
     ]
    },
    {
     "cell_type": "code",
     "collapsed": false,
     "input": [
      "from sklearn.cluster import KMeans\n",
      "from numpy.random import RandomState\n",
      "rng = RandomState(1)\n",
      "\n",
      "# Instantiate model\n",
      "kmeans = KMeans(n_clusters=4, random_state=rng)\n",
      "# Fit model\n",
      "kmeans.fit(np.transpose((x,y)))"
     ],
     "language": "python",
     "metadata": {},
     "outputs": [
      {
       "metadata": {},
       "output_type": "pyout",
       "prompt_number": 12,
       "text": [
        "KMeans(copy_x=True, init='k-means++', max_iter=300, n_clusters=4, n_init=10,\n",
        "    n_jobs=1, precompute_distances='auto',\n",
        "    random_state=<mtrand.RandomState object at 0x10edddef0>, tol=0.0001,\n",
        "    verbose=0)"
       ]
      }
     ],
     "prompt_number": 12
    },
    {
     "cell_type": "markdown",
     "metadata": {},
     "source": [
      "After fitting, we can retrieve the labels and cluster centers."
     ]
    },
    {
     "cell_type": "code",
     "collapsed": false,
     "input": [
      "kmeans.labels_"
     ],
     "language": "python",
     "metadata": {},
     "outputs": [
      {
       "metadata": {},
       "output_type": "pyout",
       "prompt_number": 13,
       "text": [
        "array([0, 3, 1, 2, 0, 0, 3, 1, 0, 2, 3, 1, 0, 1, 3, 1, 1, 1, 0, 1, 3, 1, 2,\n",
        "       2, 1], dtype=int32)"
       ]
      }
     ],
     "prompt_number": 13
    },
    {
     "cell_type": "code",
     "collapsed": false,
     "input": [
      "kmeans.cluster_centers_"
     ],
     "language": "python",
     "metadata": {},
     "outputs": [
      {
       "metadata": {},
       "output_type": "pyout",
       "prompt_number": 14,
       "text": [
        "array([[ 2.14329548,  7.58421431],\n",
        "       [ 2.30851756,  2.25303217],\n",
        "       [ 7.95101136,  7.51720053],\n",
        "       [ 8.46946475,  1.86652553]])"
       ]
      }
     ],
     "prompt_number": 14
    },
    {
     "cell_type": "markdown",
     "metadata": {},
     "source": [
      "The resulting plot should look very similar to the one we fit by hand."
     ]
    },
    {
     "cell_type": "code",
     "collapsed": false,
     "input": [
      "plt.scatter(x, y, c=kmeans.labels_)\n",
      "plt.scatter(*kmeans.cluster_centers_.T, c='r', marker='+', s=100)"
     ],
     "language": "python",
     "metadata": {},
     "outputs": [
      {
       "metadata": {},
       "output_type": "pyout",
       "prompt_number": 15,
       "text": [
        "<matplotlib.collections.PathCollection at 0x10ffe23c8>"
       ]
      },
      {
       "metadata": {},
       "output_type": "display_data",
       "png": "[encoded data removed]",
       "text": [
        "<matplotlib.figure.Figure at 0x10ecb6f60>"
       ]
      }
     ],
     "prompt_number": 15
    },
    {
     "cell_type": "markdown",
     "metadata": {},
     "source": [
      "## Example: Microbiome data\n",
      "\n",
      "The `microbiome.csv` dataset contains counts of various microbe taxa extraced from either tissue or stool samples of NICU infants. We might be interested in seeing if samples cluster into groups approximately corresponding to location (tissue or stool) based on the counts of each bacterial taxon."
     ]
    },
    {
     "cell_type": "code",
     "collapsed": false,
     "input": [
      "import pandas as pd\n",
      "\n",
      "microbiome = pd.read_csv(\"../data/microbiome.csv\")"
     ],
     "language": "python",
     "metadata": {},
     "outputs": [],
     "prompt_number": 16
    },
    {
     "cell_type": "markdown",
     "metadata": {},
     "source": [
      "First, we need to transpose the data so that it can be used with `scikit-learn`'s interface. Fortunately, Pandas makes this relatively painless. The data are stored in *long* format:"
     ]
    },
    {
     "cell_type": "code",
     "collapsed": false,
     "input": [
      "microbiome.head()"
     ],
     "language": "python",
     "metadata": {},
     "outputs": [
      {
       "html": [
        "<div style=\"max-height:1000px;max-width:1500px;overflow:auto;\">\n",
        "<table border=\"1\" class=\"dataframe\">\n",
        "  <thead>\n",
        "    <tr style=\"text-align: right;\">\n",
        "      <th></th>\n",
        "      <th>Taxon</th>\n",
        "      <th>Patient</th>\n",
        "      <th>Group</th>\n",
        "      <th>Tissue</th>\n",
        "      <th>Stool</th>\n",
        "    </tr>\n",
        "  </thead>\n",
        "  <tbody>\n",
        "    <tr>\n",
        "      <th>0</th>\n",
        "      <td> Firmicutes</td>\n",
        "      <td> 1</td>\n",
        "      <td> 0</td>\n",
        "      <td>  136</td>\n",
        "      <td> 4182</td>\n",
        "    </tr>\n",
        "    <tr>\n",
        "      <th>1</th>\n",
        "      <td> Firmicutes</td>\n",
        "      <td> 2</td>\n",
        "      <td> 1</td>\n",
        "      <td> 1174</td>\n",
        "      <td>  703</td>\n",
        "    </tr>\n",
        "    <tr>\n",
        "      <th>2</th>\n",
        "      <td> Firmicutes</td>\n",
        "      <td> 3</td>\n",
        "      <td> 0</td>\n",
        "      <td>  408</td>\n",
        "      <td> 3946</td>\n",
        "    </tr>\n",
        "    <tr>\n",
        "      <th>3</th>\n",
        "      <td> Firmicutes</td>\n",
        "      <td> 4</td>\n",
        "      <td> 1</td>\n",
        "      <td>  831</td>\n",
        "      <td> 8605</td>\n",
        "    </tr>\n",
        "    <tr>\n",
        "      <th>4</th>\n",
        "      <td> Firmicutes</td>\n",
        "      <td> 5</td>\n",
        "      <td> 0</td>\n",
        "      <td>  693</td>\n",
        "      <td>   50</td>\n",
        "    </tr>\n",
        "  </tbody>\n",
        "</table>\n",
        "</div>"
       ],
       "metadata": {},
       "output_type": "pyout",
       "prompt_number": 17,
       "text": [
        "        Taxon  Patient  Group  Tissue  Stool\n",
        "0  Firmicutes        1      0     136   4182\n",
        "1  Firmicutes        2      1    1174    703\n",
        "2  Firmicutes        3      0     408   3946\n",
        "3  Firmicutes        4      1     831   8605\n",
        "4  Firmicutes        5      0     693     50"
       ]
      }
     ],
     "prompt_number": 17
    },
    {
     "cell_type": "markdown",
     "metadata": {},
     "source": [
      "For this analysis, we need the features (*i.e.* taxa) in columns, with a row for each sample. First we drop the `Group` column, then pivot the `Taxon` column into a column index. "
     ]
    },
    {
     "cell_type": "code",
     "collapsed": false,
     "input": [
      "microbiome_pivoted = microbiome.drop('Group', axis=1).pivot(index='Patient', \n",
      "                        columns='Taxon').stack(level=0).reset_index()"
     ],
     "language": "python",
     "metadata": {},
     "outputs": [],
     "prompt_number": 18
    },
    {
     "cell_type": "markdown",
     "metadata": {},
     "source": [
      "Then we drop the unused column and change the location variable from `str` type to `int`."
     ]
    },
    {
     "cell_type": "code",
     "collapsed": true,
     "input": [
      "microbiome_data = microbiome_pivoted.drop('Patient', \n",
      "                        axis=1).rename(columns={'level_1':'Location'}\n",
      "                                       ).replace({'Tissue': 0 , 'Stool':1})\n",
      "\n",
      "y = microbiome_data.values[:, 0]\n",
      "X = microbiome_data.values[:, 1:]"
     ],
     "language": "python",
     "metadata": {},
     "outputs": [],
     "prompt_number": 19
    },
    {
     "cell_type": "code",
     "collapsed": false,
     "input": [
      "microbiome_data.head()"
     ],
     "language": "python",
     "metadata": {},
     "outputs": [
      {
       "html": [
        "<div style=\"max-height:1000px;max-width:1500px;overflow:auto;\">\n",
        "<table border=\"1\" class=\"dataframe\">\n",
        "  <thead>\n",
        "    <tr style=\"text-align: right;\">\n",
        "      <th>Taxon</th>\n",
        "      <th>Location</th>\n",
        "      <th>Actinobacteria</th>\n",
        "      <th>Bacteroidetes</th>\n",
        "      <th>Firmicutes</th>\n",
        "      <th>Other</th>\n",
        "      <th>Proteobacteria</th>\n",
        "    </tr>\n",
        "  </thead>\n",
        "  <tbody>\n",
        "    <tr>\n",
        "      <th>0</th>\n",
        "      <td> 0</td>\n",
        "      <td> 1590</td>\n",
        "      <td> 67</td>\n",
        "      <td>  136</td>\n",
        "      <td> 195</td>\n",
        "      <td> 2469</td>\n",
        "    </tr>\n",
        "    <tr>\n",
        "      <th>1</th>\n",
        "      <td> 1</td>\n",
        "      <td>    4</td>\n",
        "      <td>  0</td>\n",
        "      <td> 4182</td>\n",
        "      <td>  18</td>\n",
        "      <td> 1821</td>\n",
        "    </tr>\n",
        "    <tr>\n",
        "      <th>2</th>\n",
        "      <td> 0</td>\n",
        "      <td>   25</td>\n",
        "      <td>  0</td>\n",
        "      <td> 1174</td>\n",
        "      <td>  42</td>\n",
        "      <td>  839</td>\n",
        "    </tr>\n",
        "    <tr>\n",
        "      <th>3</th>\n",
        "      <td> 1</td>\n",
        "      <td>    2</td>\n",
        "      <td>  0</td>\n",
        "      <td>  703</td>\n",
        "      <td>   2</td>\n",
        "      <td>  661</td>\n",
        "    </tr>\n",
        "    <tr>\n",
        "      <th>4</th>\n",
        "      <td> 0</td>\n",
        "      <td>  259</td>\n",
        "      <td> 85</td>\n",
        "      <td>  408</td>\n",
        "      <td> 316</td>\n",
        "      <td> 4414</td>\n",
        "    </tr>\n",
        "  </tbody>\n",
        "</table>\n",
        "</div>"
       ],
       "metadata": {},
       "output_type": "pyout",
       "prompt_number": 20,
       "text": [
        "Taxon  Location  Actinobacteria  Bacteroidetes  Firmicutes  Other  \\\n",
        "0             0            1590             67         136    195   \n",
        "1             1               4              0        4182     18   \n",
        "2             0              25              0        1174     42   \n",
        "3             1               2              0         703      2   \n",
        "4             0             259             85         408    316   \n",
        "\n",
        "Taxon  Proteobacteria  \n",
        "0                2469  \n",
        "1                1821  \n",
        "2                 839  \n",
        "3                 661  \n",
        "4                4414  "
       ]
      }
     ],
     "prompt_number": 20
    },
    {
     "cell_type": "markdown",
     "metadata": {},
     "source": [
      "To simplify the analysis, and aid visualization, we will again perform a PCA to isolate the majority of the variation into two principal components."
     ]
    },
    {
     "cell_type": "code",
     "collapsed": false,
     "input": [
      "from sklearn.decomposition import PCA\n",
      "from itertools import cycle\n",
      "\n",
      "pca = PCA(n_components=2, whiten=True).fit(X)\n",
      "X_pca = pca.transform(X)\n",
      "\n",
      "def plot_2D(data, target, target_names, pca):\n",
      "    colors = cycle('rgbcmykw')\n",
      "    target_ids = range(len(target_names))\n",
      "    plt.figure()\n",
      "    for i, c, label in zip(target_ids, colors, target_names):\n",
      "        plt.scatter(data[target == i, 0], data[target == i, 1],\n",
      "                   c=c, label=label)\n",
      "    var_explained = pca.explained_variance_ratio_ * 100\n",
      "    plt.xlabel('First Component: {0:.1f}%'.format(var_explained[0]))\n",
      "    plt.ylabel('Second Component: {0:.1f}%'.format(var_explained[1]))\n",
      "    plt.legend()"
     ],
     "language": "python",
     "metadata": {},
     "outputs": [],
     "prompt_number": 21
    },
    {
     "cell_type": "code",
     "collapsed": false,
     "input": [
      "plot_2D(X_pca, y, ['Tissue', 'Stool'], pca)"
     ],
     "language": "python",
     "metadata": {},
     "outputs": [
      {
       "metadata": {},
       "output_type": "display_data",
       "png": "[encoded data removed]",
       "text": [
        "<matplotlib.figure.Figure at 0x111073fd0>"
       ]
      }
     ],
     "prompt_number": 22
    },
    {
     "cell_type": "markdown",
     "metadata": {},
     "source": [
      "We can now create a `KMeans` object with `k=2`, and fit the data with it."
     ]
    },
    {
     "cell_type": "code",
     "collapsed": false,
     "input": [
      "km_microbiome = KMeans(n_clusters=2, random_state=rng)\n",
      "km_microbiome.fit(X_pca)"
     ],
     "language": "python",
     "metadata": {},
     "outputs": [
      {
       "metadata": {},
       "output_type": "pyout",
       "prompt_number": 23,
       "text": [
        "KMeans(copy_x=True, init='k-means++', max_iter=300, n_clusters=2, n_init=10,\n",
        "    n_jobs=1, precompute_distances='auto',\n",
        "    random_state=<mtrand.RandomState object at 0x10edddef0>, tol=0.0001,\n",
        "    verbose=0)"
       ]
      }
     ],
     "prompt_number": 23
    },
    {
     "cell_type": "markdown",
     "metadata": {},
     "source": [
      "From this, we can extract the cluster centroids (in the `cluster_center_` attribute) and the group labels (in `labels_`) in order to generate a plot of the classification result."
     ]
    },
    {
     "cell_type": "code",
     "collapsed": false,
     "input": [
      "np.round(km_microbiome.cluster_centers_, decimals=2)"
     ],
     "language": "python",
     "metadata": {},
     "outputs": [
      {
       "metadata": {},
       "output_type": "pyout",
       "prompt_number": 24,
       "text": [
        "array([[-0.34, -0.38],\n",
        "       [ 1.01,  1.14]])"
       ]
      }
     ],
     "prompt_number": 24
    },
    {
     "cell_type": "code",
     "collapsed": false,
     "input": [
      "km_microbiome.labels_"
     ],
     "language": "python",
     "metadata": {},
     "outputs": [
      {
       "metadata": {},
       "output_type": "pyout",
       "prompt_number": 25,
       "text": [
        "array([0, 1, 0, 0, 0, 1, 0, 1, 0, 0, 0, 0, 0, 0, 0, 0, 0, 1, 0, 0, 1, 1, 0,\n",
        "       0, 0, 0, 0, 1], dtype=int32)"
       ]
      }
     ],
     "prompt_number": 25
    },
    {
     "cell_type": "code",
     "collapsed": false,
     "input": [
      "plot_2D(X_pca, km_microbiome.labels_, [\"c1\", \"c2\"], pca)"
     ],
     "language": "python",
     "metadata": {},
     "outputs": [
      {
       "metadata": {},
       "output_type": "display_data",
       "png": "[encoded data removed]",
       "text": [
        "<matplotlib.figure.Figure at 0x1110dada0>"
       ]
      }
     ],
     "prompt_number": 28
    },
    {
     "cell_type": "markdown",
     "metadata": {},
     "source": [
      "`scikit-learn` includes a suite of well-known clustering algorithms. Like most unsupervised learning models in the scikit, they expect the data to be clustered to have the shape `(n_samples, n_features)`:\n",
      "\n",
      "- `sklearn.cluster.KMeans`\n",
      ": The simplest, yet effective clustering algorithm. Needs to be provided with the\n",
      "number of clusters in advance, and assumes that the data is normalized as input\n",
      "(but use a PCA model as preprocessor).\n",
      "- `sklearn.cluster.MeanShift`\n",
      ": Can find better looking clusters than KMeans but is not scalable to high number of samples.\n",
      "- `sklearn.cluster.DBSCAN`\n",
      ": Can detect irregularly shaped clusters based on density, i.e. sparse regions in\n",
      "the input space are likely to become inter-cluster boundaries. Can also detect\n",
      "outliers (samples that are not part of a cluster)."
     ]
    },
    {
     "cell_type": "markdown",
     "metadata": {},
     "source": [
      "## Exercise: NEC\n",
      "\n",
      "If all the odd-numbered patients are healthy controls and the even-numbered patients have necrotizing enterocolitis (NEC), see if either the tissue or stool samples cluster according to group status."
     ]
    },
    {
     "cell_type": "code",
     "collapsed": false,
     "input": [
      "## Write answer here"
     ],
     "language": "python",
     "metadata": {},
     "outputs": [],
     "prompt_number": 29
    },
    {
     "cell_type": "markdown",
     "metadata": {},
     "source": [
      "## Exercise: clustering baseball statistics\n",
      "\n",
      "We can use clustering to try to find interesting groupings among sets of baseball statistics. Load the baseball dataset and run a clustering algorithm on the set of three statistics:\n",
      "\n",
      "* hit rate: hits / at bats\n",
      "* strikeout rate: strikeouts / at bats\n",
      "* walk rate: bases on balls /at bats\n",
      "\n",
      "You should probably set a minimum number of at bats to qualify for the analysis, since there are pitchers that get only a handful of at bats each year.\n",
      "\n",
      "Since we are clustering in 3 dimensions, you can visualize the output as a series of pairwise plots."
     ]
    },
    {
     "cell_type": "code",
     "collapsed": false,
     "input": [
      "import pandas as pd\n",
      "\n",
      "baseball = pd.read_csv(\"../data/baseball.csv\", index_col=0)\n",
      "baseball.head()"
     ],
     "language": "python",
     "metadata": {},
     "outputs": [
      {
       "html": [
        "<div style=\"max-height:1000px;max-width:1500px;overflow:auto;\">\n",
        "<table border=\"1\" class=\"dataframe\">\n",
        "  <thead>\n",
        "    <tr style=\"text-align: right;\">\n",
        "      <th></th>\n",
        "      <th>player</th>\n",
        "      <th>year</th>\n",
        "      <th>stint</th>\n",
        "      <th>team</th>\n",
        "      <th>lg</th>\n",
        "      <th>g</th>\n",
        "      <th>ab</th>\n",
        "      <th>r</th>\n",
        "      <th>h</th>\n",
        "      <th>X2b</th>\n",
        "      <th>...</th>\n",
        "      <th>rbi</th>\n",
        "      <th>sb</th>\n",
        "      <th>cs</th>\n",
        "      <th>bb</th>\n",
        "      <th>so</th>\n",
        "      <th>ibb</th>\n",
        "      <th>hbp</th>\n",
        "      <th>sh</th>\n",
        "      <th>sf</th>\n",
        "      <th>gidp</th>\n",
        "    </tr>\n",
        "    <tr>\n",
        "      <th>id</th>\n",
        "      <th></th>\n",
        "      <th></th>\n",
        "      <th></th>\n",
        "      <th></th>\n",
        "      <th></th>\n",
        "      <th></th>\n",
        "      <th></th>\n",
        "      <th></th>\n",
        "      <th></th>\n",
        "      <th></th>\n",
        "      <th></th>\n",
        "      <th></th>\n",
        "      <th></th>\n",
        "      <th></th>\n",
        "      <th></th>\n",
        "      <th></th>\n",
        "      <th></th>\n",
        "      <th></th>\n",
        "      <th></th>\n",
        "      <th></th>\n",
        "      <th></th>\n",
        "    </tr>\n",
        "  </thead>\n",
        "  <tbody>\n",
        "    <tr>\n",
        "      <th>88641</th>\n",
        "      <td> womacto01</td>\n",
        "      <td> 2006</td>\n",
        "      <td> 2</td>\n",
        "      <td> CHN</td>\n",
        "      <td> NL</td>\n",
        "      <td> 19</td>\n",
        "      <td> 50</td>\n",
        "      <td> 6</td>\n",
        "      <td> 14</td>\n",
        "      <td> 1</td>\n",
        "      <td>...</td>\n",
        "      <td> 2</td>\n",
        "      <td> 1</td>\n",
        "      <td> 1</td>\n",
        "      <td> 4</td>\n",
        "      <td> 4</td>\n",
        "      <td> 0</td>\n",
        "      <td> 0</td>\n",
        "      <td> 3</td>\n",
        "      <td> 0</td>\n",
        "      <td> 0</td>\n",
        "    </tr>\n",
        "    <tr>\n",
        "      <th>88643</th>\n",
        "      <td> schilcu01</td>\n",
        "      <td> 2006</td>\n",
        "      <td> 1</td>\n",
        "      <td> BOS</td>\n",
        "      <td> AL</td>\n",
        "      <td> 31</td>\n",
        "      <td>  2</td>\n",
        "      <td> 0</td>\n",
        "      <td>  1</td>\n",
        "      <td> 0</td>\n",
        "      <td>...</td>\n",
        "      <td> 0</td>\n",
        "      <td> 0</td>\n",
        "      <td> 0</td>\n",
        "      <td> 0</td>\n",
        "      <td> 1</td>\n",
        "      <td> 0</td>\n",
        "      <td> 0</td>\n",
        "      <td> 0</td>\n",
        "      <td> 0</td>\n",
        "      <td> 0</td>\n",
        "    </tr>\n",
        "    <tr>\n",
        "      <th>88645</th>\n",
        "      <td> myersmi01</td>\n",
        "      <td> 2006</td>\n",
        "      <td> 1</td>\n",
        "      <td> NYA</td>\n",
        "      <td> AL</td>\n",
        "      <td> 62</td>\n",
        "      <td>  0</td>\n",
        "      <td> 0</td>\n",
        "      <td>  0</td>\n",
        "      <td> 0</td>\n",
        "      <td>...</td>\n",
        "      <td> 0</td>\n",
        "      <td> 0</td>\n",
        "      <td> 0</td>\n",
        "      <td> 0</td>\n",
        "      <td> 0</td>\n",
        "      <td> 0</td>\n",
        "      <td> 0</td>\n",
        "      <td> 0</td>\n",
        "      <td> 0</td>\n",
        "      <td> 0</td>\n",
        "    </tr>\n",
        "    <tr>\n",
        "      <th>88649</th>\n",
        "      <td> helliri01</td>\n",
        "      <td> 2006</td>\n",
        "      <td> 1</td>\n",
        "      <td> MIL</td>\n",
        "      <td> NL</td>\n",
        "      <td> 20</td>\n",
        "      <td>  3</td>\n",
        "      <td> 0</td>\n",
        "      <td>  0</td>\n",
        "      <td> 0</td>\n",
        "      <td>...</td>\n",
        "      <td> 0</td>\n",
        "      <td> 0</td>\n",
        "      <td> 0</td>\n",
        "      <td> 0</td>\n",
        "      <td> 2</td>\n",
        "      <td> 0</td>\n",
        "      <td> 0</td>\n",
        "      <td> 0</td>\n",
        "      <td> 0</td>\n",
        "      <td> 0</td>\n",
        "    </tr>\n",
        "    <tr>\n",
        "      <th>88650</th>\n",
        "      <td> johnsra05</td>\n",
        "      <td> 2006</td>\n",
        "      <td> 1</td>\n",
        "      <td> NYA</td>\n",
        "      <td> AL</td>\n",
        "      <td> 33</td>\n",
        "      <td>  6</td>\n",
        "      <td> 0</td>\n",
        "      <td>  1</td>\n",
        "      <td> 0</td>\n",
        "      <td>...</td>\n",
        "      <td> 0</td>\n",
        "      <td> 0</td>\n",
        "      <td> 0</td>\n",
        "      <td> 0</td>\n",
        "      <td> 4</td>\n",
        "      <td> 0</td>\n",
        "      <td> 0</td>\n",
        "      <td> 0</td>\n",
        "      <td> 0</td>\n",
        "      <td> 0</td>\n",
        "    </tr>\n",
        "  </tbody>\n",
        "</table>\n",
        "<p>5 rows \u00d7 22 columns</p>\n",
        "</div>"
       ],
       "metadata": {},
       "output_type": "pyout",
       "prompt_number": 30,
       "text": [
        "          player  year  stint team  lg   g  ab  r   h  X2b  ...   rbi  sb  cs  \\\n",
        "id                                                          ...                 \n",
        "88641  womacto01  2006      2  CHN  NL  19  50  6  14    1  ...     2   1   1   \n",
        "88643  schilcu01  2006      1  BOS  AL  31   2  0   1    0  ...     0   0   0   \n",
        "88645  myersmi01  2006      1  NYA  AL  62   0  0   0    0  ...     0   0   0   \n",
        "88649  helliri01  2006      1  MIL  NL  20   3  0   0    0  ...     0   0   0   \n",
        "88650  johnsra05  2006      1  NYA  AL  33   6  0   1    0  ...     0   0   0   \n",
        "\n",
        "       bb  so  ibb  hbp  sh  sf  gidp  \n",
        "id                                     \n",
        "88641   4   4    0    0   3   0     0  \n",
        "88643   0   1    0    0   0   0     0  \n",
        "88645   0   0    0    0   0   0     0  \n",
        "88649   0   2    0    0   0   0     0  \n",
        "88650   0   4    0    0   0   0     0  \n",
        "\n",
        "[5 rows x 22 columns]"
       ]
      }
     ],
     "prompt_number": 30
    },
    {
     "cell_type": "code",
     "collapsed": false,
     "input": [
      "## Write answer here"
     ],
     "language": "python",
     "metadata": {},
     "outputs": [],
     "prompt_number": 31
    },
    {
     "cell_type": "markdown",
     "metadata": {},
     "source": [
      "## DP-Means\n",
      "\n",
      "The major weakness of the k-means approach to clustering is that the number of clusters needs to be specified at the outset. However, there is usually uncertainty with respect to the appropriate number of clusters for a given dataset. A flexible alternative to k-means that allows for an unknown number of clusters involves using a Bayesian non-parametric mixture model instead (Kulis and Jordan 2011). In particular, a Dirichlet process (DP) mixture model, which we have seen in a previous lecture, probabilistically assigns observations to clusters, using a stick-breaking algorithm. \n",
      "\n",
      "Recall the definition of a finite mixture model:\n",
      "\n",
      "\\\\[f(y) = \\sum_{h=1}^{k} \\pi_h \\mathcal{K}(y|\\theta_h)\\\\]\n",
      "\n",
      "where \\\\(k\\\\) is the number of mixture components, \\\\(\\pi_h\\\\) is the mixing coefficient for component \\\\(h\\\\), and \\\\(K\\\\) specifies the mixing components (*e.g.* a Gaussian distribution), which has parameters \\\\(\\theta_h\\\\) for each component. \n",
      "\n",
      "A DP mixture extends this by placing a Dirichlet prior of dimension \\\\(k\\\\) on the mixing coefficients. The distribution over the group indicators can then be specified as a categorical distribution:\n",
      "\n",
      "\\\\[\\begin{aligned}\n",
      "\\mathbf{\\pi} &\\sim \\text{Dirichlet}(k, \\pi_0) \\\\\n",
      "z_1,\\ldots,z_n &\\sim \\text{Categorical}(\\mathbf{\\pi}) \\\\\n",
      "\\end{aligned}\\\\]\n",
      "\n",
      "We might then specify the observations as being a mixture of Gaussians, whose means are drawn from an appropriate prior distribution \\\\(P\\\\):\n",
      "\n",
      "\\\\[\\begin{aligned}\n",
      "\\theta_1,\\ldots,\\theta_k &\\sim P \\\\\n",
      "y_1,\\ldots,y_n &\\sim N(\\theta_{z[i]}, \\sigma I)\n",
      "\\end{aligned}\\\\]"
     ]
    },
    {
     "cell_type": "code",
     "collapsed": true,
     "input": [
      "from sklearn.decomposition import PCA\n",
      "from sklearn import datasets\n",
      "\n",
      "iris = datasets.load_iris()\n",
      "\n",
      "pca = PCA(n_components=2, whiten=True).fit(iris.data)\n",
      "X_pca = pca.transform(iris.data)"
     ],
     "language": "python",
     "metadata": {},
     "outputs": [],
     "prompt_number": 54
    },
    {
     "cell_type": "code",
     "collapsed": true,
     "input": [
      "import pymc as pm\n",
      "\n",
      "def dp_mixture(data, k=40):\n",
      "    \n",
      "    tau = pm.Exponential('tau', 1, value=1)\n",
      "    \n",
      "    mu = [pm.Uniform('mu%i' % i, [-3,-3], [3,3]) for i in range(k)]\n",
      "    \n",
      "    alpha = pm.Uniform('alpha', lower=0.5, upper=10)\n",
      "    \n",
      "    v = pm.Beta('v', alpha=1, beta=alpha, size=k)\n",
      "    @pm.deterministic\n",
      "    def pi(v=v):\n",
      "        \"\"\" Calculate Dirichlet probabilities \"\"\"\n",
      "\n",
      "        # Probabilities from betas\n",
      "        value = [u*np.prod(1-v[:i]) for i,u in enumerate(v)]\n",
      "        # Enforce sum to unity constraint\n",
      "        value[-1] = 1-sum(value[:-1])\n",
      "\n",
      "        return value\n",
      "    \n",
      "    z = pm.Categorical('z', pi, value=np.zeros(k))\n",
      "    \n",
      "    @pm.observed\n",
      "    def likelihood(value=X_pca, mu=mu, z=z, tau=tau):\n",
      "        m = np.array(mu)[z]\n",
      "        return np.sum(pm.normal_like(value[i], m[i], tau) for i in range(k))\n",
      "    \n",
      "    return(locals())"
     ],
     "language": "python",
     "metadata": {},
     "outputs": [],
     "prompt_number": 87
    },
    {
     "cell_type": "code",
     "collapsed": false,
     "input": [
      "M = pm.MCMC(dp_mixture(data))"
     ],
     "language": "python",
     "metadata": {},
     "outputs": [],
     "prompt_number": 88
    },
    {
     "cell_type": "code",
     "collapsed": false,
     "input": [
      "M.sample(20000, 10000)"
     ],
     "language": "python",
     "metadata": {},
     "outputs": [
      {
       "output_type": "stream",
       "stream": "stdout",
       "text": [
        " [-----------------100%-----------------] 20000 of 20000 complete in 112.2 sec"
       ]
      }
     ],
     "prompt_number": 89
    },
    {
     "cell_type": "code",
     "collapsed": false,
     "input": [
      "pm.Matplot.plot(M.alpha)"
     ],
     "language": "python",
     "metadata": {},
     "outputs": [
      {
       "output_type": "stream",
       "stream": "stdout",
       "text": [
        "Plotting alpha\n"
       ]
      },
      {
       "metadata": {},
       "output_type": "display_data",
       "png": "[encoded data removed]",
       "text": [
        "<matplotlib.figure.Figure at 0x113ea0978>"
       ]
      }
     ],
     "prompt_number": 90
    },
    {
     "cell_type": "code",
     "collapsed": false,
     "input": [
      "pm.Matplot.summary_plot(M.pi, rhat=False)"
     ],
     "language": "python",
     "metadata": {},
     "outputs": [
      {
       "metadata": {},
       "output_type": "display_data",
       "png": "[encoded data removed]",
       "text": [
        "<matplotlib.figure.Figure at 0x113e78b70>"
       ]
      }
     ],
     "prompt_number": 91
    },
    {
     "cell_type": "markdown",
     "metadata": {},
     "source": [
      "### DP-means algorithm\n",
      "\n",
      "1. Initialize number of clusters to 1, and assign all observations to that cluster. Calculate cluster mean to be global mean.\n",
      "2. Specify cluster penalty parameter \\\\(\\lambda\\\\)\n",
      "3. Initialize cluster indicators: \\\\(z_1 = z_2 = \\ldots, = z_n = 1 \\\\)\n",
      "4. Repeat until convergence:\n",
      "\n",
      "    + For each data point \\\\(x_i\\\\):\n",
      "    \n",
      "        + compute distance from means $d_{ic} = ||x_i - \\mu_c||^2$ for $c=1,\\ldots,k$\n",
      "        + If $\\min_c(d_{ic}) > \\lambda$ set $k = k+1$, $z_i = k$, $\\mu_k = x_i$\n",
      "        + Otherwise set $z_i = \\text{argmin}_c(d_{ic})$\n",
      "        \n",
      "    + Generate clusters $l_1, \\ldots, l_k$ from $z_1,\\ldots,z_n$\n",
      "    \n",
      "    + Recompute cluster means: $\\mu_j = \\frac{1}{|l_j|} \\sum_{x \\in l_j} x$"
     ]
    },
    {
     "cell_type": "code",
     "collapsed": false,
     "input": [
      "def dp_means(x, lam, max_iter=100, tol=1e-5, metric='euclidean'):\n",
      "    \n",
      "    x = np.array(x)\n",
      "    n = x.shape[0]\n",
      "    k = 1\n",
      "    \n",
      "    # Initialize cluster indicators\n",
      "    z = np.ones(n, int)\n",
      "    \n",
      "    # Initialize with single cluster of all observations\n",
      "    mu = [x.mean(0)]\n",
      "    \n",
      "    # Initialize variables\n",
      "    converged = False\n",
      "    iteration = 0\n",
      "    ss = np.inf\n",
      "\n",
      "    # Iterate until converged or maxed out\n",
      "    while (not converged) and (iteration < max_iter):\n",
      "        \n",
      "        # Calculate distances for all points\n",
      "        d = cdist(x, np.array(mu), metric=metric)\n",
      "        \n",
      "        for i in range(n):\n",
      "            \n",
      "            if np.min(d[i]) > lam:\n",
      "                # Create new group\n",
      "\n",
      "                k += 1\n",
      "\n",
      "                z[i] = k - 1\n",
      "\n",
      "                mu += [x[i]]\n",
      "\n",
      "            else:\n",
      "                # Assign to closest group\n",
      "\n",
      "                z[i] = np.argmin(d[i])\n",
      "                \n",
      "        for j in range(k):\n",
      "            \n",
      "            # Recalculate centroids\n",
      "            if (z==j).sum():\n",
      "                indices = np.where(z==j)[0]\n",
      "                mu[j] = np.mean(x[indices], 0)\n",
      "                \n",
      "        ss_old = ss\n",
      "        \n",
      "        # Calcuate sum of squared distances to use as convergence criterion\n",
      "        ss = np.sum([[(x[i,j] - mu[z[i]][j])**2 for j in range(2)] for i in range(n)])\n",
      "\n",
      "        ss_diff = ss_old - ss\n",
      "        \n",
      "        if ss_diff < tol:\n",
      "            converged = True\n",
      "        \n",
      "        iteration += 1\n",
      "        \n",
      "    return(dict(centers=np.array(mu), z=z, k=k, iterations=iteration, converged=converged, ss=ss))"
     ],
     "language": "python",
     "metadata": {},
     "outputs": [],
     "prompt_number": 74
    },
    {
     "cell_type": "code",
     "collapsed": false,
     "input": [
      "x,y = X_pca.T\n",
      "fig, axes = plt.subplots(1, 3, figsize=(16, 4))\n",
      "for i,c in enumerate([2, 3, 4]):\n",
      "    dpm = dp_means(X_pca, c, metric='seuclidean')\n",
      "    axes[i].scatter(x, y, c=dpm['z'])\n",
      "    axes[i].scatter(*dpm['centers'].T, c='r', marker='+', s=100)\n",
      "    axes[i].set_title(r'$\\lambda$={0}, k={1}'.format(c, dpm['k']))"
     ],
     "language": "python",
     "metadata": {},
     "outputs": [
      {
       "metadata": {},
       "output_type": "display_data",
       "png": "[encoded data removed]",
       "text": [
        "<matplotlib.figure.Figure at 0x114a23780>"
       ]
      }
     ],
     "prompt_number": 80
    },
    {
     "cell_type": "markdown",
     "metadata": {},
     "source": [
      "## References\n",
      "\n",
      "Kulis B and Jordan MI. Revisiting k-means: New Algorithms via Bayesian Nonparametrics. arXiv preprint [arXiv:11110352](http://arxiv.org/abs/1111.0352) 2011.\n",
      "\n",
      "---"
     ]
    },
    {
     "cell_type": "code",
     "collapsed": false,
     "input": [
      "from IPython.core.display import HTML\n",
      "def css_styling():\n",
      "    styles = open(\"styles/custom.css\", \"r\").read()\n",
      "    return HTML(styles)\n",
      "css_styling()"
     ],
     "language": "python",
     "metadata": {},
     "outputs": [
      {
       "html": [
        "<style>\n",
        "    @font-face {\n",
        "        font-family: \"Computer Modern\";\n",
        "        src: url('http://mirrors.ctan.org/fonts/cm-unicode/fonts/otf/cmunss.otf');\n",
        "    }\n",
        "    div.cell{\n",
        "        width: 90%;\n",
        "/*        margin-left:auto;*/\n",
        "/*        margin-right:auto;*/\n",
        "    }\n",
        "    ul {\n",
        "        line-height: 145%;\n",
        "        font-size: 90%;\n",
        "    }\n",
        "    li {\n",
        "        margin-bottom: 1em;\n",
        "    }\n",
        "    h1 {\n",
        "        font-family: Helvetica, serif;\n",
        "    }\n",
        "    h4{\n",
        "        margin-top: 12px;\n",
        "        margin-bottom: 3px;\n",
        "       }\n",
        "    div.text_cell_render{\n",
        "        font-family: Computer Modern, \"Helvetica Neue\", Arial, Helvetica, Geneva, sans-serif;\n",
        "        line-height: 145%;\n",
        "        font-size: 130%;\n",
        "        width: 90%;\n",
        "        margin-left:auto;\n",
        "        margin-right:auto;\n",
        "    }\n",
        "    .CodeMirror{\n",
        "            font-family: \"Source Code Pro\", source-code-pro,Consolas, monospace;\n",
        "    }\n",
        "/*    .prompt{\n",
        "        display: None;\n",
        "    }*/\n",
        "    .text_cell_render h5 {\n",
        "        font-weight: 300;\n",
        "        font-size: 16pt;\n",
        "        color: #4057A1;\n",
        "        font-style: italic;\n",
        "        margin-bottom: 0.5em;\n",
        "        margin-top: 0.5em;\n",
        "        display: block;\n",
        "    }\n",
        "\n",
        "    .warning{\n",
        "        color: rgb( 240, 20, 20 )\n",
        "        }\n",
        "</style>\n",
        "<script>\n",
        "    MathJax.Hub.Config({\n",
        "                        TeX: {\n",
        "                           extensions: [\"AMSmath.js\"]\n",
        "                           },\n",
        "                tex2jax: {\n",
        "                    inlineMath: [ ['$','$'], [\"\\\\(\",\"\\\\)\"] ],\n",
        "                    displayMath: [ ['$$','$$'], [\"\\\\[\",\"\\\\]\"] ]\n",
        "                },\n",
        "                displayAlign: 'center', // Change this to 'center' to center equations.\n",
        "                \"HTML-CSS\": {\n",
        "                    styles: {'.MathJax_Display': {\"margin\": 4}}\n",
        "                }\n",
        "        });\n",
        "</script>"
       ],
       "metadata": {},
       "output_type": "pyout",
       "prompt_number": 38,
       "text": [
        "<IPython.core.display.HTML object>"
       ]
      }
     ],
     "prompt_number": 38
    }
   ],
   "metadata": {}
  }
 ]
}